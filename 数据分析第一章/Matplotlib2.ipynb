{
 "cells": [
  {
   "cell_type": "code",
   "execution_count": 1,
   "metadata": {},
   "outputs": [],
   "source": [
    "import matplotlib.pyplot as plt"
   ]
  },
  {
   "cell_type": "code",
   "execution_count": 2,
   "metadata": {},
   "outputs": [],
   "source": [
    "import numpy as np"
   ]
  },
  {
   "cell_type": "markdown",
   "metadata": {},
   "source": [
    "## 散点图"
   ]
  },
  {
   "cell_type": "code",
   "execution_count": 9,
   "metadata": {},
   "outputs": [
    {
     "data": {
      "text/plain": [
       "array([[7.40477995e-01, 1.62528352e+00],\n",
       "       [4.45637248e-01, 3.59549157e-01],\n",
       "       [5.26386643e-01, 1.32337523e+00],\n",
       "       [1.09313692e+00, 4.39930566e+00],\n",
       "       [3.88886989e+00, 1.60286698e+00],\n",
       "       [4.72158877e+00, 3.16565099e+00],\n",
       "       [6.20635816e-01, 6.32623406e-01],\n",
       "       [2.01012836e+00, 1.37584816e+00],\n",
       "       [2.57686442e+00, 4.43556534e+00],\n",
       "       [4.45553663e+00, 1.83525685e+00],\n",
       "       [2.39508865e+00, 2.42527093e+00],\n",
       "       [1.77061357e-01, 3.38402463e+00],\n",
       "       [4.21525819e+00, 1.06468220e+00],\n",
       "       [2.96450911e+00, 4.98452321e+00],\n",
       "       [2.25033008e+00, 7.33899361e-01],\n",
       "       [1.56536133e+00, 4.13839988e+00],\n",
       "       [3.59362684e+00, 1.12092754e-01],\n",
       "       [3.66382409e+00, 1.10957692e+00],\n",
       "       [6.88784549e-01, 4.55517743e+00],\n",
       "       [2.68140015e+00, 1.35865362e+00],\n",
       "       [3.33706297e-03, 1.57859153e+00],\n",
       "       [4.10341091e+00, 3.73841634e-01],\n",
       "       [1.83590171e+00, 3.58402740e+00],\n",
       "       [1.18117586e+00, 6.31811781e-01],\n",
       "       [2.24962754e+00, 4.89929775e+00],\n",
       "       [3.83778518e+00, 1.22700274e+00],\n",
       "       [1.64662333e+00, 1.70630736e+00],\n",
       "       [9.21807989e-01, 1.94347306e+00],\n",
       "       [4.95122562e+00, 4.08951956e+00],\n",
       "       [4.34088719e+00, 2.08802035e+00],\n",
       "       [2.68056863e-01, 3.37077819e+00],\n",
       "       [2.08456185e+00, 4.16897294e+00],\n",
       "       [3.58694494e+00, 1.80932898e+00],\n",
       "       [4.00071802e+00, 2.59049214e+00],\n",
       "       [2.06853750e+00, 3.91311393e+00],\n",
       "       [1.51780848e+00, 4.48041924e+00],\n",
       "       [3.68886395e+00, 1.91052069e+00],\n",
       "       [4.32884572e+00, 5.35126444e-01],\n",
       "       [2.77637076e+00, 1.11814509e+00],\n",
       "       [1.61681928e+00, 9.96965013e-03],\n",
       "       [4.23861742e+00, 4.69572083e-01],\n",
       "       [2.41374828e+00, 2.33618923e+00],\n",
       "       [4.23742979e+00, 2.33715671e+00],\n",
       "       [4.54084728e+00, 4.41993493e+00],\n",
       "       [2.38110614e+00, 3.15539332e+00],\n",
       "       [5.78948954e-02, 1.85800404e+00],\n",
       "       [1.31817682e+00, 3.65258414e+00],\n",
       "       [3.34449467e+00, 4.07357251e+00],\n",
       "       [6.28849434e-01, 4.91641430e-01],\n",
       "       [8.62886076e-01, 2.95008939e+00],\n",
       "       [5.83532624e-01, 3.54654064e+00],\n",
       "       [2.80666855e+00, 4.22928283e+00],\n",
       "       [1.54015397e+00, 9.27338470e-01],\n",
       "       [3.24893791e+00, 2.96630638e+00],\n",
       "       [2.07793142e+00, 4.16636728e+00],\n",
       "       [9.56798235e-01, 4.78837265e+00],\n",
       "       [2.54589334e+00, 4.28306876e-01],\n",
       "       [4.05540252e+00, 1.01719937e+00],\n",
       "       [1.82097178e+00, 2.27488744e+00],\n",
       "       [2.35131262e+00, 3.38810771e+00],\n",
       "       [2.13653416e+00, 2.36717076e+00],\n",
       "       [2.43343608e+00, 1.88231964e+00],\n",
       "       [2.82207817e+00, 8.36340212e-01],\n",
       "       [1.66926204e+00, 4.12433670e+00],\n",
       "       [3.35440475e+00, 4.34039326e+00],\n",
       "       [3.43920105e+00, 2.95573848e+00],\n",
       "       [1.14735032e-01, 1.12818393e+00],\n",
       "       [4.03136356e+00, 2.49381411e+00],\n",
       "       [5.53568644e-01, 3.79278365e+00],\n",
       "       [1.06083380e+00, 3.08893860e+00],\n",
       "       [4.60916684e-01, 2.77352497e+00],\n",
       "       [3.25495879e+00, 1.72934260e+00],\n",
       "       [3.21116304e-01, 1.55307803e+00],\n",
       "       [4.03545079e+00, 1.34296209e+00],\n",
       "       [2.28552870e+00, 2.62705384e+00],\n",
       "       [2.74152190e+00, 4.54797345e+00],\n",
       "       [2.91911955e+00, 2.00119728e+00],\n",
       "       [3.61384278e+00, 1.66466190e+00],\n",
       "       [3.95819653e+00, 2.80633675e+00],\n",
       "       [3.65109038e+00, 3.38588494e+00],\n",
       "       [7.44891547e-01, 3.05060106e+00],\n",
       "       [1.92404832e+00, 1.48617439e+00],\n",
       "       [2.46740668e-01, 1.18255618e+00],\n",
       "       [5.74484567e-01, 4.02368894e+00],\n",
       "       [3.42658071e+00, 2.75730890e+00],\n",
       "       [3.62725308e+00, 9.13062892e-01],\n",
       "       [3.04041556e+00, 2.96317286e+00],\n",
       "       [3.21329535e+00, 3.66733399e+00],\n",
       "       [1.76243514e+00, 2.63509897e+00],\n",
       "       [3.86996070e+00, 2.00265308e+00],\n",
       "       [2.42185316e+00, 4.68921680e+00],\n",
       "       [1.58844005e+00, 2.24963780e+00],\n",
       "       [1.96755243e+00, 4.82699210e+00],\n",
       "       [4.82292802e+00, 4.60707987e-01],\n",
       "       [3.54779729e+00, 4.87482868e+00],\n",
       "       [3.41129914e+00, 3.73044273e+00],\n",
       "       [2.05513550e+00, 3.58095270e+00],\n",
       "       [2.79165501e+00, 3.71362178e+00],\n",
       "       [3.00992642e+00, 3.74389795e+00],\n",
       "       [4.17240276e+00, 1.85921629e+00]])"
      ]
     },
     "execution_count": 9,
     "metadata": {},
     "output_type": "execute_result"
    }
   ],
   "source": [
    "# 生成第一种类型点 \n",
    "array1 = np.random.uniform(0.0, 5.0 , size=(100, 2)) # 从均匀分布中随机采样\n",
    "array1"
   ]
  },
  {
   "cell_type": "code",
   "execution_count": 4,
   "metadata": {},
   "outputs": [
    {
     "data": {
      "text/plain": [
       "array([[9.92688886, 9.72682165],\n",
       "       [9.08595761, 4.35349125],\n",
       "       [7.38140995, 8.1059725 ],\n",
       "       [6.2978725 , 5.05428777],\n",
       "       [5.00643839, 8.04367817],\n",
       "       [8.59345858, 6.67181887],\n",
       "       [8.41469113, 5.42935961],\n",
       "       [9.12052026, 7.15531725],\n",
       "       [6.58105128, 8.93584687],\n",
       "       [4.44984986, 5.8602787 ],\n",
       "       [7.29558032, 6.85079767],\n",
       "       [9.49548808, 8.73663201],\n",
       "       [8.54434601, 6.75051734],\n",
       "       [9.0005395 , 8.78207582],\n",
       "       [7.88749798, 7.7058919 ],\n",
       "       [4.44234989, 8.40097678],\n",
       "       [9.35080121, 8.67191734],\n",
       "       [7.56090131, 9.58558784],\n",
       "       [7.01713045, 9.30971233],\n",
       "       [4.67742784, 6.00132726],\n",
       "       [8.95013032, 8.11984697],\n",
       "       [5.40429852, 5.96268432],\n",
       "       [9.02885593, 9.51349938],\n",
       "       [4.57589503, 7.05491938],\n",
       "       [6.6550864 , 4.24496252],\n",
       "       [6.78756754, 9.48353683],\n",
       "       [9.83488317, 9.51671549],\n",
       "       [6.24993907, 7.7172424 ],\n",
       "       [8.84304066, 5.51414311],\n",
       "       [5.60838902, 9.27722144],\n",
       "       [4.44151006, 9.01161232],\n",
       "       [6.11376914, 4.33203706],\n",
       "       [9.27198907, 8.71111628],\n",
       "       [5.55294534, 9.87562316],\n",
       "       [4.32840258, 9.97969718],\n",
       "       [8.22072068, 9.76846493],\n",
       "       [8.01470467, 4.27203579],\n",
       "       [6.4266727 , 5.28928409],\n",
       "       [9.66144851, 9.93948788],\n",
       "       [9.53354967, 8.54615093],\n",
       "       [8.85040085, 5.29481756],\n",
       "       [6.43939524, 5.57991694],\n",
       "       [5.87187298, 5.24786066],\n",
       "       [6.49578206, 7.43405306],\n",
       "       [9.96663351, 7.70802747],\n",
       "       [8.7005195 , 6.15827021],\n",
       "       [8.57291714, 6.68245833],\n",
       "       [4.30478794, 7.14338521],\n",
       "       [7.87987617, 5.84890396],\n",
       "       [5.99630851, 4.35424525],\n",
       "       [7.480587  , 6.9067876 ],\n",
       "       [5.32815831, 7.84613981],\n",
       "       [7.08862436, 7.52219261],\n",
       "       [5.38809715, 8.81098852],\n",
       "       [5.93016062, 8.40907372],\n",
       "       [5.21865892, 6.75797966],\n",
       "       [4.53254469, 6.35318612],\n",
       "       [7.16187637, 6.29915078],\n",
       "       [5.36975325, 8.36238336],\n",
       "       [4.86538333, 8.35772212],\n",
       "       [4.44521081, 8.13954485],\n",
       "       [7.72609285, 7.52463658],\n",
       "       [5.50982856, 9.80649523],\n",
       "       [4.27346548, 4.56141438],\n",
       "       [7.75719785, 7.31790647],\n",
       "       [8.36863795, 9.84735322],\n",
       "       [5.63161938, 7.6709544 ],\n",
       "       [6.00085674, 9.63209792],\n",
       "       [8.44139591, 6.86516175],\n",
       "       [7.16630914, 7.71413044],\n",
       "       [4.59972737, 9.6984501 ],\n",
       "       [7.88119565, 5.17918954],\n",
       "       [5.31286728, 7.87031019],\n",
       "       [5.79514859, 6.03625242],\n",
       "       [8.33075576, 6.74399829],\n",
       "       [6.67355889, 7.60343863],\n",
       "       [6.67063214, 8.65877725],\n",
       "       [5.01441957, 5.48866977],\n",
       "       [4.55420136, 8.43477167],\n",
       "       [9.13486874, 4.93902016],\n",
       "       [4.22446178, 5.69863117],\n",
       "       [9.78965489, 6.83115373],\n",
       "       [6.9585464 , 7.65072672],\n",
       "       [4.47541172, 8.37897301],\n",
       "       [8.85170387, 5.84901007],\n",
       "       [8.70835754, 4.79700599],\n",
       "       [5.21988596, 6.1885433 ],\n",
       "       [6.24780884, 4.83266531],\n",
       "       [6.18001345, 9.97668371],\n",
       "       [6.86719756, 9.46591578],\n",
       "       [5.30676239, 6.15703088],\n",
       "       [9.49278331, 6.85679835],\n",
       "       [9.89880247, 6.38004772],\n",
       "       [9.39384318, 6.06990992],\n",
       "       [7.75062176, 9.7239142 ],\n",
       "       [9.00339718, 4.34567609],\n",
       "       [8.29111245, 6.9335217 ],\n",
       "       [4.35746874, 9.74113484],\n",
       "       [8.48708572, 7.92957968],\n",
       "       [5.4613088 , 7.28545196]])"
      ]
     },
     "execution_count": 4,
     "metadata": {},
     "output_type": "execute_result"
    }
   ],
   "source": [
    "# 生成第二种类型点 \n",
    "array2 = np.random.uniform(4.2, 10 , size=(100, 2)) # 从均匀分布中随机采样\n",
    "array2"
   ]
  },
  {
   "cell_type": "code",
   "execution_count": 10,
   "metadata": {},
   "outputs": [],
   "source": [
    "np.savetxt('./matplot_test_data1.txt',array1, fmt=\"%f %f\" , delimiter ='\\n' )\n",
    "np.savetxt('./matplot_test_data2.txt',array2, fmt=\"%f %f\" , delimiter ='\\n' )"
   ]
  },
  {
   "cell_type": "code",
   "execution_count": 11,
   "metadata": {},
   "outputs": [],
   "source": [
    "a = np.loadtxt('./matplot_test_data1.txt')\n",
    "b = np.loadtxt('./matplot_test_data2.txt')"
   ]
  },
  {
   "cell_type": "code",
   "execution_count": 12,
   "metadata": {},
   "outputs": [
    {
     "data": {
      "text/plain": [
       "<matplotlib.collections.PathCollection at 0x121256400>"
      ]
     },
     "execution_count": 12,
     "metadata": {},
     "output_type": "execute_result"
    },
    {
     "data": {
      "image/png": "[encoded data removed]",
      "text/plain": [
       "<Figure size 432x288 with 1 Axes>"
      ]
     },
     "metadata": {
      "needs_background": "light"
     },
     "output_type": "display_data"
    }
   ],
   "source": [
    "plt.scatter(a[: ,0], a[: ,1])\n",
    "plt.scatter(b[: ,0], b[: ,1])"
   ]
  },
  {
   "cell_type": "code",
   "execution_count": 13,
   "metadata": {},
   "outputs": [
    {
     "data": {
      "text/plain": [
       "(100, 2)"
      ]
     },
     "execution_count": 13,
     "metadata": {},
     "output_type": "execute_result"
    }
   ],
   "source": [
    "a.shape"
   ]
  },
  {
   "cell_type": "code",
   "execution_count": 17,
   "metadata": {},
   "outputs": [
    {
     "data": {
      "text/plain": [
       "<matplotlib.collections.PathCollection at 0x121531e48>"
      ]
     },
     "execution_count": 17,
     "metadata": {},
     "output_type": "execute_result"
    },
    {
     "data": {
      "image/png": "[encoded data removed]",
      "text/plain": [
       "<Figure size 432x288 with 1 Axes>"
      ]
     },
     "metadata": {
      "needs_background": "light"
     },
     "output_type": "display_data"
    }
   ],
   "source": [
    "x = [1, 2, 3, 4]\n",
    "y = [2, 3, 4, 8]\n",
    "plt.scatter(x, y, s = [20, 40, 80, 300], color = ['r', 'g', 'b', 'y'], marker = 'h')   # color='#ff0000'"
   ]
  },
  {
   "cell_type": "code",
   "execution_count": 18,
   "metadata": {},
   "outputs": [
    {
     "data": {
      "text/plain": [
       "array([162.32459186, 177.71970731, 191.8463361 , 197.10134394,\n",
       "       180.85246461, 161.9146381 , 171.46576699, 177.7714627 ,\n",
       "       142.75837975, 163.3579294 , 143.5494064 , 168.85803239,\n",
       "       167.68603258, 192.18331207, 164.90235924, 158.87552284,\n",
       "       182.97171518, 198.73927845, 178.03825619, 160.21441709])"
      ]
     },
     "execution_count": 18,
     "metadata": {},
     "output_type": "execute_result"
    }
   ],
   "source": [
    "male_high = np.random.uniform(140, 200, size = 20)\n",
    "male_high"
   ]
  },
  {
   "cell_type": "code",
   "execution_count": 19,
   "metadata": {},
   "outputs": [
    {
     "data": {
      "text/plain": [
       "array([ 0,  1,  2,  3,  4,  5,  6,  7,  8,  9, 10, 11, 12, 13, 14, 15, 16,\n",
       "       17, 18, 19, 20])"
      ]
     },
     "execution_count": 19,
     "metadata": {},
     "output_type": "execute_result"
    }
   ],
   "source": [
    "male_id = np.arange(21)\n",
    "male_id"
   ]
  },
  {
   "cell_type": "code",
   "execution_count": 20,
   "metadata": {},
   "outputs": [
    {
     "data": {
      "text/plain": [
       "array([ 1,  2,  3,  4,  5,  6,  7,  8,  9, 10, 11, 12, 13, 14, 15, 16, 17,\n",
       "       18, 19, 20])"
      ]
     },
     "execution_count": 20,
     "metadata": {},
     "output_type": "execute_result"
    }
   ],
   "source": [
    "male_id = np.delete(male_id, 0)\n",
    "male_id"
   ]
  },
  {
   "cell_type": "code",
   "execution_count": 22,
   "metadata": {},
   "outputs": [
    {
     "data": {
      "text/plain": [
       "array([[162.32459186],\n",
       "       [177.71970731],\n",
       "       [191.8463361 ],\n",
       "       [197.10134394],\n",
       "       [180.85246461],\n",
       "       [161.9146381 ],\n",
       "       [171.46576699],\n",
       "       [177.7714627 ],\n",
       "       [142.75837975],\n",
       "       [163.3579294 ],\n",
       "       [143.5494064 ],\n",
       "       [168.85803239],\n",
       "       [167.68603258],\n",
       "       [192.18331207],\n",
       "       [164.90235924],\n",
       "       [158.87552284],\n",
       "       [182.97171518],\n",
       "       [198.73927845],\n",
       "       [178.03825619],\n",
       "       [160.21441709]])"
      ]
     },
     "execution_count": 22,
     "metadata": {},
     "output_type": "execute_result"
    }
   ],
   "source": [
    "male_high = male_high.reshape(20, -1)\n",
    "male_high"
   ]
  },
  {
   "cell_type": "code",
   "execution_count": 23,
   "metadata": {},
   "outputs": [
    {
     "data": {
      "text/plain": [
       "array([[ 1],\n",
       "       [ 2],\n",
       "       [ 3],\n",
       "       [ 4],\n",
       "       [ 5],\n",
       "       [ 6],\n",
       "       [ 7],\n",
       "       [ 8],\n",
       "       [ 9],\n",
       "       [10],\n",
       "       [11],\n",
       "       [12],\n",
       "       [13],\n",
       "       [14],\n",
       "       [15],\n",
       "       [16],\n",
       "       [17],\n",
       "       [18],\n",
       "       [19],\n",
       "       [20]])"
      ]
     },
     "execution_count": 23,
     "metadata": {},
     "output_type": "execute_result"
    }
   ],
   "source": [
    "male_id = male_id.reshape(20, -1)\n",
    "male_id"
   ]
  },
  {
   "cell_type": "code",
   "execution_count": 24,
   "metadata": {},
   "outputs": [
    {
     "data": {
      "text/plain": [
       "array([[  1.        , 162.32459186],\n",
       "       [  2.        , 177.71970731],\n",
       "       [  3.        , 191.8463361 ],\n",
       "       [  4.        , 197.10134394],\n",
       "       [  5.        , 180.85246461],\n",
       "       [  6.        , 161.9146381 ],\n",
       "       [  7.        , 171.46576699],\n",
       "       [  8.        , 177.7714627 ],\n",
       "       [  9.        , 142.75837975],\n",
       "       [ 10.        , 163.3579294 ],\n",
       "       [ 11.        , 143.5494064 ],\n",
       "       [ 12.        , 168.85803239],\n",
       "       [ 13.        , 167.68603258],\n",
       "       [ 14.        , 192.18331207],\n",
       "       [ 15.        , 164.90235924],\n",
       "       [ 16.        , 158.87552284],\n",
       "       [ 17.        , 182.97171518],\n",
       "       [ 18.        , 198.73927845],\n",
       "       [ 19.        , 178.03825619],\n",
       "       [ 20.        , 160.21441709]])"
      ]
     },
     "execution_count": 24,
     "metadata": {},
     "output_type": "execute_result"
    }
   ],
   "source": [
    "male = np.concatenate((male_id,male_high), axis = 1)\n",
    "male"
   ]
  },
  {
   "cell_type": "code",
   "execution_count": 26,
   "metadata": {},
   "outputs": [
    {
     "data": {
      "text/plain": [
       "array([[  1.        , 181.29324416],\n",
       "       [  2.        , 165.81327859],\n",
       "       [  3.        , 122.18126862],\n",
       "       [  4.        , 115.04507547],\n",
       "       [  5.        , 129.38134604],\n",
       "       [  6.        , 110.7892792 ],\n",
       "       [  7.        , 144.60381438],\n",
       "       [  8.        , 139.11917376],\n",
       "       [  9.        , 117.24504713],\n",
       "       [ 10.        , 175.83737701],\n",
       "       [ 11.        , 165.7827546 ],\n",
       "       [ 12.        , 140.72069036],\n",
       "       [ 13.        , 173.77803003],\n",
       "       [ 14.        , 165.58675078],\n",
       "       [ 15.        , 148.51440817],\n",
       "       [ 16.        , 128.69514087],\n",
       "       [ 17.        , 113.3065435 ],\n",
       "       [ 18.        , 164.72130874],\n",
       "       [ 19.        , 150.86363227],\n",
       "       [ 20.        , 148.77238635]])"
      ]
     },
     "execution_count": 26,
     "metadata": {},
     "output_type": "execute_result"
    }
   ],
   "source": [
    "female_high = np.random.uniform(110, 185, size = 20)\n",
    "female_id = np.arange(21)\n",
    "\n",
    "female_id = np.delete(female_id, 0)\n",
    "\n",
    "female_high = female_high.reshape(20, -1)\n",
    "\n",
    "female_id = female_id.reshape(20, -1)\n",
    "\n",
    "female = np.concatenate((female_id,female_high), axis = 1)\n",
    "female"
   ]
  },
  {
   "cell_type": "code",
   "execution_count": 27,
   "metadata": {},
   "outputs": [
    {
     "data": {
      "text/plain": [
       "array([[  1.        , 162.32459186],\n",
       "       [  2.        , 177.71970731],\n",
       "       [  3.        , 191.8463361 ],\n",
       "       [  4.        , 197.10134394],\n",
       "       [  5.        , 180.85246461],\n",
       "       [  6.        , 161.9146381 ],\n",
       "       [  7.        , 171.46576699],\n",
       "       [  8.        , 177.7714627 ],\n",
       "       [  9.        , 142.75837975],\n",
       "       [ 10.        , 163.3579294 ],\n",
       "       [ 11.        , 143.5494064 ],\n",
       "       [ 12.        , 168.85803239],\n",
       "       [ 13.        , 167.68603258],\n",
       "       [ 14.        , 192.18331207],\n",
       "       [ 15.        , 164.90235924],\n",
       "       [ 16.        , 158.87552284],\n",
       "       [ 17.        , 182.97171518],\n",
       "       [ 18.        , 198.73927845],\n",
       "       [ 19.        , 178.03825619],\n",
       "       [ 20.        , 160.21441709],\n",
       "       [  1.        , 181.29324416],\n",
       "       [  2.        , 165.81327859],\n",
       "       [  3.        , 122.18126862],\n",
       "       [  4.        , 115.04507547],\n",
       "       [  5.        , 129.38134604],\n",
       "       [  6.        , 110.7892792 ],\n",
       "       [  7.        , 144.60381438],\n",
       "       [  8.        , 139.11917376],\n",
       "       [  9.        , 117.24504713],\n",
       "       [ 10.        , 175.83737701],\n",
       "       [ 11.        , 165.7827546 ],\n",
       "       [ 12.        , 140.72069036],\n",
       "       [ 13.        , 173.77803003],\n",
       "       [ 14.        , 165.58675078],\n",
       "       [ 15.        , 148.51440817],\n",
       "       [ 16.        , 128.69514087],\n",
       "       [ 17.        , 113.3065435 ],\n",
       "       [ 18.        , 164.72130874],\n",
       "       [ 19.        , 150.86363227],\n",
       "       [ 20.        , 148.77238635]])"
      ]
     },
     "execution_count": 27,
     "metadata": {},
     "output_type": "execute_result"
    }
   ],
   "source": [
    "X = np.concatenate((male, female), axis = 0)\n",
    "X"
   ]
  },
  {
   "cell_type": "code",
   "execution_count": 28,
   "metadata": {},
   "outputs": [],
   "source": [
    "y = np.concatenate([np.ones(20), np.zeros(20)])"
   ]
  },
  {
   "cell_type": "code",
   "execution_count": 29,
   "metadata": {},
   "outputs": [
    {
     "data": {
      "text/plain": [
       "array([1., 1., 1., 1., 1., 1., 1., 1., 1., 1., 1., 1., 1., 1., 1., 1., 1.,\n",
       "       1., 1., 1., 0., 0., 0., 0., 0., 0., 0., 0., 0., 0., 0., 0., 0., 0.,\n",
       "       0., 0., 0., 0., 0., 0.])"
      ]
     },
     "execution_count": 29,
     "metadata": {},
     "output_type": "execute_result"
    }
   ],
   "source": [
    "y"
   ]
  },
  {
   "cell_type": "code",
   "execution_count": 30,
   "metadata": {},
   "outputs": [
    {
     "data": {
      "text/plain": [
       "array([[  1.        , 162.32459186],\n",
       "       [  2.        , 177.71970731],\n",
       "       [  3.        , 191.8463361 ],\n",
       "       [  4.        , 197.10134394],\n",
       "       [  5.        , 180.85246461],\n",
       "       [  6.        , 161.9146381 ],\n",
       "       [  7.        , 171.46576699],\n",
       "       [  8.        , 177.7714627 ],\n",
       "       [  9.        , 142.75837975],\n",
       "       [ 10.        , 163.3579294 ],\n",
       "       [ 11.        , 143.5494064 ],\n",
       "       [ 12.        , 168.85803239],\n",
       "       [ 13.        , 167.68603258],\n",
       "       [ 14.        , 192.18331207],\n",
       "       [ 15.        , 164.90235924],\n",
       "       [ 16.        , 158.87552284],\n",
       "       [ 17.        , 182.97171518],\n",
       "       [ 18.        , 198.73927845],\n",
       "       [ 19.        , 178.03825619],\n",
       "       [ 20.        , 160.21441709]])"
      ]
     },
     "execution_count": 30,
     "metadata": {},
     "output_type": "execute_result"
    }
   ],
   "source": [
    "X[y == 1]"
   ]
  },
  {
   "cell_type": "code",
   "execution_count": 32,
   "metadata": {},
   "outputs": [
    {
     "data": {
      "image/png": "[encoded data removed]",
      "text/plain": [
       "<Figure size 432x288 with 1 Axes>"
      ]
     },
     "metadata": {
      "needs_background": "light"
     },
     "output_type": "display_data"
    }
   ],
   "source": [
    "plt.scatter(X[y == 1, 0], X[y == 1, 1], color = 'r')\n",
    "plt.scatter(X[y == 0, 0], X[y == 0, 1], color = 'g')\n",
    "plt.show()"
   ]
  },
  {
   "cell_type": "markdown",
   "metadata": {},
   "source": [
    "## 折线图"
   ]
  },
  {
   "cell_type": "code",
   "execution_count": 33,
   "metadata": {},
   "outputs": [
    {
     "data": {
      "text/plain": [
       "array([0, 1, 2, 3, 4, 5, 6, 7, 8, 9])"
      ]
     },
     "execution_count": 33,
     "metadata": {},
     "output_type": "execute_result"
    }
   ],
   "source": [
    "x = np.arange(10)\n",
    "x"
   ]
  },
  {
   "cell_type": "code",
   "execution_count": 34,
   "metadata": {},
   "outputs": [
    {
     "data": {
      "text/plain": [
       "array([4.17022005e-01, 7.20324493e-01, 1.14374817e-04, 3.02332573e-01,\n",
       "       1.46755891e-01, 9.23385948e-02, 1.86260211e-01, 3.45560727e-01,\n",
       "       3.96767474e-01, 5.38816734e-01])"
      ]
     },
     "execution_count": 34,
     "metadata": {},
     "output_type": "execute_result"
    }
   ],
   "source": [
    "np.random.seed(1)\n",
    "y = np.random.random(size = 10)\n",
    "y"
   ]
  },
  {
   "cell_type": "code",
   "execution_count": 36,
   "metadata": {},
   "outputs": [
    {
     "data": {
      "image/png": "[encoded data removed]",
      "text/plain": [
       "<Figure size 432x288 with 1 Axes>"
      ]
     },
     "metadata": {
      "needs_background": "light"
     },
     "output_type": "display_data"
    }
   ],
   "source": [
    "plt.plot(x, y, color = 'y', marker = '^', linestyle = '--')\n",
    "plt.show()"
   ]
  },
  {
   "cell_type": "code",
   "execution_count": 37,
   "metadata": {},
   "outputs": [
    {
     "data": {
      "image/png": "[encoded data removed]",
      "text/plain": [
       "<Figure size 432x288 with 1 Axes>"
      ]
     },
     "metadata": {
      "needs_background": "light"
     },
     "output_type": "display_data"
    }
   ],
   "source": [
    "plt.plot(x, y, 'b--o')\n",
    "plt.show()"
   ]
  },
  {
   "cell_type": "code",
   "execution_count": 42,
   "metadata": {},
   "outputs": [
    {
     "data": {
      "text/plain": [
       "array([ 0.        ,  0.1010101 ,  0.2020202 ,  0.3030303 ,  0.4040404 ,\n",
       "        0.50505051,  0.60606061,  0.70707071,  0.80808081,  0.90909091,\n",
       "        1.01010101,  1.11111111,  1.21212121,  1.31313131,  1.41414141,\n",
       "        1.51515152,  1.61616162,  1.71717172,  1.81818182,  1.91919192,\n",
       "        2.02020202,  2.12121212,  2.22222222,  2.32323232,  2.42424242,\n",
       "        2.52525253,  2.62626263,  2.72727273,  2.82828283,  2.92929293,\n",
       "        3.03030303,  3.13131313,  3.23232323,  3.33333333,  3.43434343,\n",
       "        3.53535354,  3.63636364,  3.73737374,  3.83838384,  3.93939394,\n",
       "        4.04040404,  4.14141414,  4.24242424,  4.34343434,  4.44444444,\n",
       "        4.54545455,  4.64646465,  4.74747475,  4.84848485,  4.94949495,\n",
       "        5.05050505,  5.15151515,  5.25252525,  5.35353535,  5.45454545,\n",
       "        5.55555556,  5.65656566,  5.75757576,  5.85858586,  5.95959596,\n",
       "        6.06060606,  6.16161616,  6.26262626,  6.36363636,  6.46464646,\n",
       "        6.56565657,  6.66666667,  6.76767677,  6.86868687,  6.96969697,\n",
       "        7.07070707,  7.17171717,  7.27272727,  7.37373737,  7.47474747,\n",
       "        7.57575758,  7.67676768,  7.77777778,  7.87878788,  7.97979798,\n",
       "        8.08080808,  8.18181818,  8.28282828,  8.38383838,  8.48484848,\n",
       "        8.58585859,  8.68686869,  8.78787879,  8.88888889,  8.98989899,\n",
       "        9.09090909,  9.19191919,  9.29292929,  9.39393939,  9.49494949,\n",
       "        9.5959596 ,  9.6969697 ,  9.7979798 ,  9.8989899 , 10.        ])"
      ]
     },
     "execution_count": 42,
     "metadata": {},
     "output_type": "execute_result"
    }
   ],
   "source": [
    "x = np.linspace(0, 10, 100)\n",
    "x\n"
   ]
  },
  {
   "cell_type": "code",
   "execution_count": 44,
   "metadata": {},
   "outputs": [
    {
     "data": {
      "text/plain": [
       "array([ 0.        ,  0.10083842,  0.20064886,  0.2984138 ,  0.39313661,\n",
       "        0.48385164,  0.56963411,  0.64960951,  0.72296256,  0.78894546,\n",
       "        0.84688556,  0.8961922 ,  0.93636273,  0.96698762,  0.98775469,\n",
       "        0.99845223,  0.99897117,  0.98930624,  0.96955595,  0.93992165,\n",
       "        0.90070545,  0.85230712,  0.79522006,  0.73002623,  0.65739025,\n",
       "        0.57805259,  0.49282204,  0.40256749,  0.30820902,  0.21070855,\n",
       "        0.11106004,  0.01027934, -0.09060615, -0.19056796, -0.28858706,\n",
       "       -0.38366419, -0.47483011, -0.56115544, -0.64176014, -0.7158225 ,\n",
       "       -0.7825875 , -0.84137452, -0.89158426, -0.93270486, -0.96431712,\n",
       "       -0.98609877, -0.99782778, -0.99938456, -0.99075324, -0.97202182,\n",
       "       -0.94338126, -0.90512352, -0.85763861, -0.80141062, -0.73701276,\n",
       "       -0.66510151, -0.58640998, -0.50174037, -0.41195583, -0.31797166,\n",
       "       -0.22074597, -0.12126992, -0.0205576 ,  0.0803643 ,  0.18046693,\n",
       "        0.27872982,  0.37415123,  0.46575841,  0.55261747,  0.63384295,\n",
       "        0.7086068 ,  0.77614685,  0.83577457,  0.8868821 ,  0.92894843,\n",
       "        0.96154471,  0.98433866,  0.99709789,  0.99969234,  0.99209556,\n",
       "        0.97438499,  0.94674118,  0.90944594,  0.86287948,  0.8075165 ,\n",
       "        0.74392141,  0.6727425 ,  0.59470541,  0.51060568,  0.42130064,\n",
       "        0.32770071,  0.23076008,  0.13146699,  0.03083368, -0.07011396,\n",
       "       -0.17034683, -0.26884313, -0.36459873, -0.45663749, -0.54402111])"
      ]
     },
     "execution_count": 44,
     "metadata": {},
     "output_type": "execute_result"
    }
   ],
   "source": [
    "y =  np.sin(x)\n",
    "y"
   ]
  },
  {
   "cell_type": "code",
   "execution_count": 45,
   "metadata": {},
   "outputs": [
    {
     "data": {
      "image/png": "[encoded data removed]",
      "text/plain": [
       "<Figure size 432x288 with 1 Axes>"
      ]
     },
     "metadata": {
      "needs_background": "light"
     },
     "output_type": "display_data"
    }
   ],
   "source": [
    "plt.plot(x, y)\n",
    "plt.show()"
   ]
  },
  {
   "cell_type": "code",
   "execution_count": 46,
   "metadata": {},
   "outputs": [
    {
     "data": {
      "text/plain": [
       "array([ 1.        ,  0.99490282,  0.97966323,  0.95443659,  0.91948007,\n",
       "        0.87515004,  0.8218984 ,  0.76026803,  0.69088721,  0.61446323,\n",
       "        0.53177518,  0.44366602,  0.35103397,  0.25482335,  0.15601496,\n",
       "        0.0556161 , -0.04534973, -0.14585325, -0.24486989, -0.34139023,\n",
       "       -0.43443032, -0.52304166, -0.60632092, -0.68341913, -0.75355031,\n",
       "       -0.81599952, -0.87013012, -0.91539031, -0.95131866, -0.97754893,\n",
       "       -0.9938137 , -0.99994717, -0.9958868 , -0.981674  , -0.95745366,\n",
       "       -0.92347268, -0.88007748, -0.82771044, -0.76690542, -0.69828229,\n",
       "       -0.6225406 , -0.54045251, -0.45285485, -0.36064061, -0.26474988,\n",
       "       -0.16616018, -0.06587659,  0.03507857,  0.13567613,  0.23489055,\n",
       "        0.33171042,  0.4251487 ,  0.51425287,  0.59811455,  0.67587883,\n",
       "        0.74675295,  0.8100144 ,  0.86501827,  0.91120382,  0.94810022,\n",
       "        0.97533134,  0.99261957,  0.99978867,  0.99676556,  0.98358105,\n",
       "        0.96036956,  0.9273677 ,  0.88491192,  0.83343502,  0.77346177,\n",
       "        0.70560358,  0.63055219,  0.54907273,  0.46199582,  0.37020915,\n",
       "        0.27464844,  0.17628785,  0.07613012, -0.0248037 , -0.12548467,\n",
       "       -0.2248864 , -0.32199555, -0.41582217, -0.50540974, -0.58984498,\n",
       "       -0.66826712, -0.7398767 , -0.8039437 , -0.859815  , -0.90692104,\n",
       "       -0.94478159, -0.97301068, -0.99132055, -0.99952453, -0.99753899,\n",
       "       -0.98538417, -0.96318398, -0.93116473, -0.88965286, -0.83907153])"
      ]
     },
     "execution_count": 46,
     "metadata": {},
     "output_type": "execute_result"
    }
   ],
   "source": [
    "y2 = np.cos(x)\n",
    "y2"
   ]
  },
  {
   "cell_type": "code",
   "execution_count": 47,
   "metadata": {},
   "outputs": [
    {
     "data": {
      "image/png": "[encoded data removed]",
      "text/plain": [
       "<Figure size 432x288 with 1 Axes>"
      ]
     },
     "metadata": {
      "needs_background": "light"
     },
     "output_type": "display_data"
    }
   ],
   "source": [
    "plt.plot(x, y2)\n",
    "plt.show()"
   ]
  },
  {
   "cell_type": "code",
   "execution_count": 48,
   "metadata": {},
   "outputs": [
    {
     "data": {
      "image/png": "[encoded data removed]",
      "text/plain": [
       "<Figure size 432x288 with 1 Axes>"
      ]
     },
     "metadata": {
      "needs_background": "light"
     },
     "output_type": "display_data"
    }
   ],
   "source": [
    "plt.plot(x, y, label = 'sin(x)')\n",
    "plt.plot(x, y2, label = 'cos(x)')\n",
    "plt.legend()\n",
    "plt.show()"
   ]
  },
  {
   "cell_type": "code",
   "execution_count": 49,
   "metadata": {},
   "outputs": [
    {
     "data": {
      "image/png": "[encoded data removed]",
      "text/plain": [
       "<Figure size 432x288 with 1 Axes>"
      ]
     },
     "metadata": {
      "needs_background": "light"
     },
     "output_type": "display_data"
    }
   ],
   "source": [
    "plt.plot(x, y, label = 'sin(x)')\n",
    "plt.plot(x, y2, label = 'cos(x)')\n",
    "plt.legend()\n",
    "plt.axis([-5, 15, -2, 2])\n",
    "plt.show()"
   ]
  },
  {
   "cell_type": "markdown",
   "metadata": {},
   "source": [
    "## 绘制柱状图和饼图"
   ]
  },
  {
   "cell_type": "code",
   "execution_count": 50,
   "metadata": {},
   "outputs": [],
   "source": [
    "x = ['Q1', 'Q2', 'Q3', 'Q4']\n",
    "y = [10, 30, 20, 60]"
   ]
  },
  {
   "cell_type": "code",
   "execution_count": 52,
   "metadata": {},
   "outputs": [
    {
     "data": {
      "image/png": "[encoded data removed]",
      "text/plain": [
       "<Figure size 432x288 with 1 Axes>"
      ]
     },
     "metadata": {
      "needs_background": "light"
     },
     "output_type": "display_data"
    }
   ],
   "source": [
    "plt.bar(x, y, color = 'g', width = 0.3)\n",
    "plt.grid(True)\n",
    "plt.show()"
   ]
  },
  {
   "cell_type": "code",
   "execution_count": 53,
   "metadata": {},
   "outputs": [
    {
     "data": {
      "image/png": "[encoded data removed]",
      "text/plain": [
       "<Figure size 432x288 with 1 Axes>"
      ]
     },
     "metadata": {
      "needs_background": "light"
     },
     "output_type": "display_data"
    }
   ],
   "source": [
    "plt.bar(x, y, color = 'g', width = 0.3)\n",
    "plt.grid(True)\n",
    "plt.text(0.2, 50, 'test')\n",
    "plt.show()"
   ]
  },
  {
   "cell_type": "code",
   "execution_count": 76,
   "metadata": {},
   "outputs": [
    {
     "data": {
      "image/png": "[encoded data removed]",
      "text/plain": [
       "<Figure size 432x288 with 1 Axes>"
      ]
     },
     "metadata": {
      "needs_background": "light"
     },
     "output_type": "display_data"
    }
   ],
   "source": [
    "rect = plt.bar(x, y, color = 'g', width = 0.3)\n",
    "plt.grid(True)\n",
    "\n",
    "\n",
    "# 绘制标度值\n",
    "for index, item in enumerate(rect):\n",
    "    _x = item.get_x() + 0.1\n",
    "    _y = item.get_height()\n",
    "    plt.text(_x, _y, y[index])\n",
    "plt.ylim(0, 70)\n",
    "plt.show()\n"
   ]
  },
  {
   "cell_type": "markdown",
   "metadata": {},
   "source": [
    "## 饼图"
   ]
  },
  {
   "cell_type": "code",
   "execution_count": 77,
   "metadata": {},
   "outputs": [
    {
     "data": {
      "text/plain": [
       "['Q1', 'Q2', 'Q3', 'Q4']"
      ]
     },
     "execution_count": 77,
     "metadata": {},
     "output_type": "execute_result"
    }
   ],
   "source": [
    "x"
   ]
  },
  {
   "cell_type": "code",
   "execution_count": 78,
   "metadata": {},
   "outputs": [
    {
     "data": {
      "text/plain": [
       "[10, 30, 20, 60]"
      ]
     },
     "execution_count": 78,
     "metadata": {},
     "output_type": "execute_result"
    }
   ],
   "source": [
    "y"
   ]
  },
  {
   "cell_type": "code",
   "execution_count": 79,
   "metadata": {},
   "outputs": [
    {
     "data": {
      "image/png": "[encoded data removed]",
      "text/plain": [
       "<Figure size 432x288 with 1 Axes>"
      ]
     },
     "metadata": {},
     "output_type": "display_data"
    }
   ],
   "source": [
    "plt.pie(y, labels = x)\n",
    "plt.show()"
   ]
  },
  {
   "cell_type": "code",
   "execution_count": 83,
   "metadata": {},
   "outputs": [
    {
     "data": {
      "image/png": "[encoded data removed]",
      "text/plain": [
       "<Figure size 432x288 with 1 Axes>"
      ]
     },
     "metadata": {},
     "output_type": "display_data"
    }
   ],
   "source": [
    "plt.axes(aspect = 1)\n",
    "plt.pie(y, labels = x, autopct = '%2.f%%')\n",
    "plt.show()"
   ]
  },
  {
   "cell_type": "code",
   "execution_count": 85,
   "metadata": {},
   "outputs": [
    {
     "data": {
      "image/png": "[encoded data removed]",
      "text/plain": [
       "<Figure size 432x288 with 1 Axes>"
      ]
     },
     "metadata": {},
     "output_type": "display_data"
    }
   ],
   "source": [
    "plt.axes(aspect = 1)\n",
    "plt.pie(y, labels = x, autopct = '%2.f%%', explode = [0.2, 0, 0, 0], shadow=True)\n",
    "plt.show()"
   ]
  },
  {
   "cell_type": "markdown",
   "metadata": {},
   "source": [
    "## 直方图"
   ]
  },
  {
   "cell_type": "code",
   "execution_count": 89,
   "metadata": {},
   "outputs": [
    {
     "data": {
      "text/plain": [
       "267"
      ]
     },
     "execution_count": 89,
     "metadata": {},
     "output_type": "execute_result"
    }
   ],
   "source": [
    "np.random.seed(100)\n",
    "data = np.random.normal(9000, 3000, size = 300)\n",
    "data = data[data>=5000]\n",
    "len(data)"
   ]
  },
  {
   "cell_type": "code",
   "execution_count": 90,
   "metadata": {},
   "outputs": [
    {
     "data": {
      "image/png": "[encoded data removed]",
      "text/plain": [
       "<Figure size 432x288 with 1 Axes>"
      ]
     },
     "metadata": {
      "needs_background": "light"
     },
     "output_type": "display_data"
    }
   ],
   "source": [
    "plt.hist(data)\n",
    "plt.show()"
   ]
  },
  {
   "cell_type": "code",
   "execution_count": 92,
   "metadata": {},
   "outputs": [
    {
     "data": {
      "image/png": "[encoded data removed]",
      "text/plain": [
       "<Figure size 432x288 with 1 Axes>"
      ]
     },
     "metadata": {
      "needs_background": "light"
     },
     "output_type": "display_data"
    }
   ],
   "source": [
    "plt.hist(data, color = 'g', rwidth = 0.6 , alpha = 0.6)\n",
    "plt.show()"
   ]
  },
  {
   "cell_type": "code",
   "execution_count": 93,
   "metadata": {},
   "outputs": [
    {
     "data": {
      "image/png": "[encoded data removed]",
      "text/plain": [
       "<Figure size 432x288 with 1 Axes>"
      ]
     },
     "metadata": {
      "needs_background": "light"
     },
     "output_type": "display_data"
    }
   ],
   "source": [
    "plt.hist(data, color = 'g', rwidth = 0.6 , alpha = 0.6, bins = 20) # bins代表柱子个数\n",
    "plt.show()"
   ]
  },
  {
   "cell_type": "markdown",
   "metadata": {},
   "source": [
    "## 箱线图"
   ]
  },
  {
   "cell_type": "code",
   "execution_count": 94,
   "metadata": {},
   "outputs": [
    {
     "data": {
      "text/plain": [
       "array([1, 2, 3, 4, 5, 6, 7, 8, 9])"
      ]
     },
     "execution_count": 94,
     "metadata": {},
     "output_type": "execute_result"
    }
   ],
   "source": [
    "data = np.arange(1, 10)\n",
    "data"
   ]
  },
  {
   "cell_type": "code",
   "execution_count": 95,
   "metadata": {},
   "outputs": [
    {
     "data": {
      "image/png": "[encoded data removed]",
      "text/plain": [
       "<Figure size 432x288 with 1 Axes>"
      ]
     },
     "metadata": {
      "needs_background": "light"
     },
     "output_type": "display_data"
    }
   ],
   "source": [
    "plt.boxplot(data)\n",
    "plt.show()"
   ]
  },
  {
   "cell_type": "code",
   "execution_count": 96,
   "metadata": {},
   "outputs": [
    {
     "data": {
      "text/plain": [
       "array([-1.74976547,  0.3426804 ,  1.1530358 , -0.25243604,  0.98132079,\n",
       "        0.51421884,  0.22117967, -1.07004333, -0.18949583,  0.25500144,\n",
       "       -0.45802699,  0.43516349, -0.58359505,  0.81684707,  0.67272081,\n",
       "       -0.10441114, -0.53128038,  1.02973269, -0.43813562, -1.11831825,\n",
       "        1.61898166,  1.54160517, -0.25187914, -0.84243574,  0.18451869,\n",
       "        0.9370822 ,  0.73100034,  1.36155613, -0.32623806,  0.05567601,\n",
       "        0.22239961, -1.443217  , -0.75635231,  0.81645401,  0.75044476,\n",
       "       -0.45594693,  1.18962227, -1.69061683, -1.35639905, -1.23243451,\n",
       "       -0.54443916, -0.66817174,  0.00731456, -0.61293874,  1.29974807,\n",
       "       -1.73309562, -0.9833101 ,  0.35750775, -1.6135785 ,  1.47071387,\n",
       "       -1.1880176 , -0.54974619, -0.94004616, -0.82793236,  0.10886347,\n",
       "        0.50780959, -0.86222735,  1.24946974, -0.07961125, -0.88973148,\n",
       "       -0.88179839,  0.01863895,  0.23784462,  0.01354855, -1.6355294 ,\n",
       "       -1.04420988,  0.61303888,  0.73620521,  1.02692144, -1.43219061,\n",
       "       -1.8411883 ,  0.36609323, -0.33177714, -0.68921798,  2.03460756,\n",
       "       -0.55071441,  0.75045333, -1.30699234,  0.58057334, -1.10452309,\n",
       "        0.69012147,  0.68689007, -1.56668753,  0.90497412,  0.7788224 ,\n",
       "        0.42823287,  0.10887199,  0.02828363, -0.57882582, -1.1994512 ,\n",
       "       -1.70595201,  0.36916396,  1.87657343, -0.37690335,  1.83193608,\n",
       "        0.00301743, -0.07602347,  0.00395759, -0.18501411, -2.48715154])"
      ]
     },
     "execution_count": 96,
     "metadata": {},
     "output_type": "execute_result"
    }
   ],
   "source": [
    "np.random.seed(100)\n",
    "data = np.random.normal(size = 100)\n",
    "data"
   ]
  },
  {
   "cell_type": "code",
   "execution_count": 97,
   "metadata": {},
   "outputs": [
    {
     "data": {
      "image/png": "[encoded data removed]",
      "text/plain": [
       "<Figure size 432x288 with 1 Axes>"
      ]
     },
     "metadata": {
      "needs_background": "light"
     },
     "output_type": "display_data"
    }
   ],
   "source": [
    "plt.hist(data)\n",
    "plt.show()"
   ]
  },
  {
   "cell_type": "code",
   "execution_count": 100,
   "metadata": {},
   "outputs": [
    {
     "data": {
      "image/png": "[encoded data removed]",
      "text/plain": [
       "<Figure size 432x288 with 1 Axes>"
      ]
     },
     "metadata": {
      "needs_background": "light"
     },
     "output_type": "display_data"
    }
   ],
   "source": [
    "data = np.concatenate([data, [4,7, 8, 9, -4]])\n",
    "plt.boxplot(data)\n",
    "plt.show()"
   ]
  },
  {
   "cell_type": "code",
   "execution_count": 101,
   "metadata": {},
   "outputs": [
    {
     "data": {
      "image/png": "[encoded data removed]",
      "text/plain": [
       "<Figure size 432x288 with 1 Axes>"
      ]
     },
     "metadata": {
      "needs_background": "light"
     },
     "output_type": "display_data"
    }
   ],
   "source": [
    "# whis: 指定上下边界 四分位距离， 默认1.5倍四分位差\n",
    "plt.boxplot(data, whis = 3) \n",
    "plt.show()"
   ]
  },
  {
   "cell_type": "code",
   "execution_count": 102,
   "metadata": {},
   "outputs": [
    {
     "data": {
      "image/png": "[encoded data removed]",
      "text/plain": [
       "<Figure size 432x288 with 1 Axes>"
      ]
     },
     "metadata": {
      "needs_background": "light"
     },
     "output_type": "display_data"
    }
   ],
   "source": [
    "plt.boxplot(data , showmeans = True, meanline = True)\n",
    "plt.show()"
   ]
  },
  {
   "cell_type": "markdown",
   "metadata": {},
   "source": [
    "##  子图"
   ]
  },
  {
   "cell_type": "code",
   "execution_count": 104,
   "metadata": {},
   "outputs": [
    {
     "data": {
      "image/png": "[encoded data removed]",
      "text/plain": [
       "<Figure size 432x288 with 2 Axes>"
      ]
     },
     "metadata": {
      "needs_background": "light"
     },
     "output_type": "display_data"
    }
   ],
   "source": [
    "# 注意：其中各个参数也可以用逗号,分隔开。第一个参数代表子图的行数；第二个参数代表该行图像的列数； 第三个参数代表每行的第几个图像。\n",
    "# 另外：fig, ax = plt.subplots(2,2),其中参数分别代表子图的行数和列数，一共有 2x2 个图像。函数返回一个figure图像和一个子图ax的array列表。\n",
    "plt.subplot(2, 1, 1)\n",
    "plt.subplot(2, 1, 2)\n",
    "plt.show()"
   ]
  },
  {
   "cell_type": "code",
   "execution_count": 105,
   "metadata": {},
   "outputs": [
    {
     "data": {
      "image/png": "[encoded data removed]",
      "text/plain": [
       "<Figure size 432x288 with 3 Axes>"
      ]
     },
     "metadata": {
      "needs_background": "light"
     },
     "output_type": "display_data"
    }
   ],
   "source": [
    "plt.subplot(3, 1, 1)\n",
    "plt.subplot(3, 1, 2)\n",
    "plt.subplot(3, 1, 3)\n",
    "plt.show()"
   ]
  },
  {
   "cell_type": "code",
   "execution_count": 106,
   "metadata": {},
   "outputs": [
    {
     "data": {
      "text/plain": [
       "<matplotlib.axes._subplots.AxesSubplot at 0x121e39860>"
      ]
     },
     "execution_count": 106,
     "metadata": {},
     "output_type": "execute_result"
    },
    {
     "data": {
      "image/png": "[encoded data removed]",
      "text/plain": [
       "<Figure size 432x288 with 4 Axes>"
      ]
     },
     "metadata": {
      "needs_background": "light"
     },
     "output_type": "display_data"
    }
   ],
   "source": [
    "plt.subplot(2, 2, 1)\n",
    "plt.subplot(2, 2, 2)\n",
    "plt.subplot(2, 2, 3)\n",
    "plt.subplot(2, 2, 4)"
   ]
  },
  {
   "cell_type": "code",
   "execution_count": 107,
   "metadata": {},
   "outputs": [
    {
     "data": {
      "text/plain": [
       "<matplotlib.axes._subplots.AxesSubplot at 0x121d876a0>"
      ]
     },
     "execution_count": 107,
     "metadata": {},
     "output_type": "execute_result"
    },
    {
     "data": {
      "image/png": "[encoded data removed]",
      "text/plain": [
       "<Figure size 432x288 with 3 Axes>"
      ]
     },
     "metadata": {
      "needs_background": "light"
     },
     "output_type": "display_data"
    }
   ],
   "source": [
    "plt.subplot(2, 2, 1)\n",
    "plt.subplot(2, 2, 2)\n",
    "plt.subplot(2, 1, 2)"
   ]
  },
  {
   "cell_type": "code",
   "execution_count": 108,
   "metadata": {},
   "outputs": [
    {
     "data": {
      "text/html": [
       "<div>\n",
       "<style scoped>\n",
       "    .dataframe tbody tr th:only-of-type {\n",
       "        vertical-align: middle;\n",
       "    }\n",
       "\n",
       "    .dataframe tbody tr th {\n",
       "        vertical-align: top;\n",
       "    }\n",
       "\n",
       "    .dataframe thead th {\n",
       "        text-align: right;\n",
       "    }\n",
       "</style>\n",
       "<table border=\"1\" class=\"dataframe\">\n",
       "  <thead>\n",
       "    <tr style=\"text-align: right;\">\n",
       "      <th></th>\n",
       "      <th>排名</th>\n",
       "      <th>城市</th>\n",
       "      <th>月均工资</th>\n",
       "    </tr>\n",
       "  </thead>\n",
       "  <tbody>\n",
       "    <tr>\n",
       "      <th>0</th>\n",
       "      <td>1</td>\n",
       "      <td>北京</td>\n",
       "      <td>9240</td>\n",
       "    </tr>\n",
       "    <tr>\n",
       "      <th>1</th>\n",
       "      <td>2</td>\n",
       "      <td>上海</td>\n",
       "      <td>8962</td>\n",
       "    </tr>\n",
       "    <tr>\n",
       "      <th>2</th>\n",
       "      <td>3</td>\n",
       "      <td>深圳</td>\n",
       "      <td>8315</td>\n",
       "    </tr>\n",
       "    <tr>\n",
       "      <th>3</th>\n",
       "      <td>4</td>\n",
       "      <td>广州</td>\n",
       "      <td>7409</td>\n",
       "    </tr>\n",
       "    <tr>\n",
       "      <th>4</th>\n",
       "      <td>5</td>\n",
       "      <td>杭州</td>\n",
       "      <td>7330</td>\n",
       "    </tr>\n",
       "    <tr>\n",
       "      <th>5</th>\n",
       "      <td>6</td>\n",
       "      <td>宁波</td>\n",
       "      <td>7000</td>\n",
       "    </tr>\n",
       "    <tr>\n",
       "      <th>6</th>\n",
       "      <td>7</td>\n",
       "      <td>佛山</td>\n",
       "      <td>6889</td>\n",
       "    </tr>\n",
       "    <tr>\n",
       "      <th>7</th>\n",
       "      <td>8</td>\n",
       "      <td>东莞</td>\n",
       "      <td>6809</td>\n",
       "    </tr>\n",
       "  </tbody>\n",
       "</table>\n",
       "</div>"
      ],
      "text/plain": [
       "   排名  城市  月均工资\n",
       "0   1  北京  9240\n",
       "1   2  上海  8962\n",
       "2   3  深圳  8315\n",
       "3   4  广州  7409\n",
       "4   5  杭州  7330\n",
       "5   6  宁波  7000\n",
       "6   7  佛山  6889\n",
       "7   8  东莞  6809"
      ]
     },
     "execution_count": 108,
     "metadata": {},
     "output_type": "execute_result"
    }
   ],
   "source": [
    "import pandas as pd\n",
    "data = pd.read_table('./salay.txt', sep = '\\t')\n",
    "data "
   ]
  },
  {
   "cell_type": "code",
   "execution_count": 109,
   "metadata": {},
   "outputs": [],
   "source": [
    "plt.rc('font', **{'family' : 'Microsoft YaHei, SimHei'})"
   ]
  },
  {
   "cell_type": "code",
   "execution_count": 110,
   "metadata": {},
   "outputs": [
    {
     "data": {
      "text/plain": [
       "<matplotlib.axes._subplots.AxesSubplot at 0x1233e2588>"
      ]
     },
     "execution_count": 110,
     "metadata": {},
     "output_type": "execute_result"
    },
    {
     "data": {
      "image/png": "[encoded data removed]",
      "text/plain": [
       "<Figure size 432x288 with 1 Axes>"
      ]
     },
     "metadata": {
      "needs_background": "light"
     },
     "output_type": "display_data"
    }
   ],
   "source": [
    "plt.subplot(2, 2, 1)"
   ]
  },
  {
   "cell_type": "code",
   "execution_count": 125,
   "metadata": {},
   "outputs": [
    {
     "data": {
      "image/png": "[encoded data removed]",
      "text/plain": [
       "<Figure size 432x288 with 1 Axes>"
      ]
     },
     "metadata": {
      "needs_background": "light"
     },
     "output_type": "display_data"
    }
   ],
   "source": [
    "plt.subplot(2, 2, 1)\n",
    "plt.plot(data['城市'], data['月均工资'])\n",
    "plt.show()"
   ]
  },
  {
   "cell_type": "code",
   "execution_count": 126,
   "metadata": {},
   "outputs": [
    {
     "data": {
      "text/html": [
       "<div>\n",
       "<style scoped>\n",
       "    .dataframe tbody tr th:only-of-type {\n",
       "        vertical-align: middle;\n",
       "    }\n",
       "\n",
       "    .dataframe tbody tr th {\n",
       "        vertical-align: top;\n",
       "    }\n",
       "\n",
       "    .dataframe thead th {\n",
       "        text-align: right;\n",
       "    }\n",
       "</style>\n",
       "<table border=\"1\" class=\"dataframe\">\n",
       "  <thead>\n",
       "    <tr style=\"text-align: right;\">\n",
       "      <th></th>\n",
       "      <th>排名</th>\n",
       "      <th>城市</th>\n",
       "      <th>月均工资</th>\n",
       "    </tr>\n",
       "  </thead>\n",
       "  <tbody>\n",
       "    <tr>\n",
       "      <th>0</th>\n",
       "      <td>1</td>\n",
       "      <td>北京</td>\n",
       "      <td>9240</td>\n",
       "    </tr>\n",
       "    <tr>\n",
       "      <th>1</th>\n",
       "      <td>2</td>\n",
       "      <td>上海</td>\n",
       "      <td>8962</td>\n",
       "    </tr>\n",
       "    <tr>\n",
       "      <th>2</th>\n",
       "      <td>3</td>\n",
       "      <td>深圳</td>\n",
       "      <td>8315</td>\n",
       "    </tr>\n",
       "    <tr>\n",
       "      <th>3</th>\n",
       "      <td>4</td>\n",
       "      <td>广州</td>\n",
       "      <td>7409</td>\n",
       "    </tr>\n",
       "    <tr>\n",
       "      <th>4</th>\n",
       "      <td>5</td>\n",
       "      <td>杭州</td>\n",
       "      <td>7330</td>\n",
       "    </tr>\n",
       "    <tr>\n",
       "      <th>5</th>\n",
       "      <td>6</td>\n",
       "      <td>宁波</td>\n",
       "      <td>7000</td>\n",
       "    </tr>\n",
       "    <tr>\n",
       "      <th>6</th>\n",
       "      <td>7</td>\n",
       "      <td>佛山</td>\n",
       "      <td>6889</td>\n",
       "    </tr>\n",
       "    <tr>\n",
       "      <th>7</th>\n",
       "      <td>8</td>\n",
       "      <td>东莞</td>\n",
       "      <td>6809</td>\n",
       "    </tr>\n",
       "  </tbody>\n",
       "</table>\n",
       "</div>"
      ],
      "text/plain": [
       "   排名  城市  月均工资\n",
       "0   1  北京  9240\n",
       "1   2  上海  8962\n",
       "2   3  深圳  8315\n",
       "3   4  广州  7409\n",
       "4   5  杭州  7330\n",
       "5   6  宁波  7000\n",
       "6   7  佛山  6889\n",
       "7   8  东莞  6809"
      ]
     },
     "execution_count": 126,
     "metadata": {},
     "output_type": "execute_result"
    }
   ],
   "source": [
    "data"
   ]
  },
  {
   "cell_type": "code",
   "execution_count": 127,
   "metadata": {},
   "outputs": [
    {
     "data": {
      "text/html": [
       "<div>\n",
       "<style scoped>\n",
       "    .dataframe tbody tr th:only-of-type {\n",
       "        vertical-align: middle;\n",
       "    }\n",
       "\n",
       "    .dataframe tbody tr th {\n",
       "        vertical-align: top;\n",
       "    }\n",
       "\n",
       "    .dataframe thead th {\n",
       "        text-align: right;\n",
       "    }\n",
       "</style>\n",
       "<table border=\"1\" class=\"dataframe\">\n",
       "  <thead>\n",
       "    <tr style=\"text-align: right;\">\n",
       "      <th></th>\n",
       "      <th>排名</th>\n",
       "      <th>城市</th>\n",
       "      <th>月均工资</th>\n",
       "    </tr>\n",
       "    <tr>\n",
       "      <th>城市</th>\n",
       "      <th></th>\n",
       "      <th></th>\n",
       "      <th></th>\n",
       "    </tr>\n",
       "  </thead>\n",
       "  <tbody>\n",
       "    <tr>\n",
       "      <th>北京</th>\n",
       "      <td>1</td>\n",
       "      <td>北京</td>\n",
       "      <td>9240</td>\n",
       "    </tr>\n",
       "    <tr>\n",
       "      <th>上海</th>\n",
       "      <td>2</td>\n",
       "      <td>上海</td>\n",
       "      <td>8962</td>\n",
       "    </tr>\n",
       "    <tr>\n",
       "      <th>深圳</th>\n",
       "      <td>3</td>\n",
       "      <td>深圳</td>\n",
       "      <td>8315</td>\n",
       "    </tr>\n",
       "    <tr>\n",
       "      <th>广州</th>\n",
       "      <td>4</td>\n",
       "      <td>广州</td>\n",
       "      <td>7409</td>\n",
       "    </tr>\n",
       "    <tr>\n",
       "      <th>杭州</th>\n",
       "      <td>5</td>\n",
       "      <td>杭州</td>\n",
       "      <td>7330</td>\n",
       "    </tr>\n",
       "    <tr>\n",
       "      <th>宁波</th>\n",
       "      <td>6</td>\n",
       "      <td>宁波</td>\n",
       "      <td>7000</td>\n",
       "    </tr>\n",
       "    <tr>\n",
       "      <th>佛山</th>\n",
       "      <td>7</td>\n",
       "      <td>佛山</td>\n",
       "      <td>6889</td>\n",
       "    </tr>\n",
       "    <tr>\n",
       "      <th>东莞</th>\n",
       "      <td>8</td>\n",
       "      <td>东莞</td>\n",
       "      <td>6809</td>\n",
       "    </tr>\n",
       "  </tbody>\n",
       "</table>\n",
       "</div>"
      ],
      "text/plain": [
       "    排名  城市  月均工资\n",
       "城市              \n",
       "北京   1  北京  9240\n",
       "上海   2  上海  8962\n",
       "深圳   3  深圳  8315\n",
       "广州   4  广州  7409\n",
       "杭州   5  杭州  7330\n",
       "宁波   6  宁波  7000\n",
       "佛山   7  佛山  6889\n",
       "东莞   8  东莞  6809"
      ]
     },
     "execution_count": 127,
     "metadata": {},
     "output_type": "execute_result"
    }
   ],
   "source": [
    "data.index = data['城市']\n",
    "data \n"
   ]
  },
  {
   "cell_type": "code",
   "execution_count": 128,
   "metadata": {},
   "outputs": [
    {
     "data": {
      "text/html": [
       "<div>\n",
       "<style scoped>\n",
       "    .dataframe tbody tr th:only-of-type {\n",
       "        vertical-align: middle;\n",
       "    }\n",
       "\n",
       "    .dataframe tbody tr th {\n",
       "        vertical-align: top;\n",
       "    }\n",
       "\n",
       "    .dataframe thead th {\n",
       "        text-align: right;\n",
       "    }\n",
       "</style>\n",
       "<table border=\"1\" class=\"dataframe\">\n",
       "  <thead>\n",
       "    <tr style=\"text-align: right;\">\n",
       "      <th></th>\n",
       "      <th>排名</th>\n",
       "      <th>月均工资</th>\n",
       "    </tr>\n",
       "    <tr>\n",
       "      <th>城市</th>\n",
       "      <th></th>\n",
       "      <th></th>\n",
       "    </tr>\n",
       "  </thead>\n",
       "  <tbody>\n",
       "    <tr>\n",
       "      <th>北京</th>\n",
       "      <td>1</td>\n",
       "      <td>9240</td>\n",
       "    </tr>\n",
       "    <tr>\n",
       "      <th>上海</th>\n",
       "      <td>2</td>\n",
       "      <td>8962</td>\n",
       "    </tr>\n",
       "    <tr>\n",
       "      <th>深圳</th>\n",
       "      <td>3</td>\n",
       "      <td>8315</td>\n",
       "    </tr>\n",
       "    <tr>\n",
       "      <th>广州</th>\n",
       "      <td>4</td>\n",
       "      <td>7409</td>\n",
       "    </tr>\n",
       "    <tr>\n",
       "      <th>杭州</th>\n",
       "      <td>5</td>\n",
       "      <td>7330</td>\n",
       "    </tr>\n",
       "    <tr>\n",
       "      <th>宁波</th>\n",
       "      <td>6</td>\n",
       "      <td>7000</td>\n",
       "    </tr>\n",
       "    <tr>\n",
       "      <th>佛山</th>\n",
       "      <td>7</td>\n",
       "      <td>6889</td>\n",
       "    </tr>\n",
       "    <tr>\n",
       "      <th>东莞</th>\n",
       "      <td>8</td>\n",
       "      <td>6809</td>\n",
       "    </tr>\n",
       "  </tbody>\n",
       "</table>\n",
       "</div>"
      ],
      "text/plain": [
       "    排名  月均工资\n",
       "城市          \n",
       "北京   1  9240\n",
       "上海   2  8962\n",
       "深圳   3  8315\n",
       "广州   4  7409\n",
       "杭州   5  7330\n",
       "宁波   6  7000\n",
       "佛山   7  6889\n",
       "东莞   8  6809"
      ]
     },
     "execution_count": 128,
     "metadata": {},
     "output_type": "execute_result"
    }
   ],
   "source": [
    "data = data.set_index('城市')\n",
    "data"
   ]
  },
  {
   "cell_type": "code",
   "execution_count": 140,
   "metadata": {},
   "outputs": [
    {
     "data": {
      "image/png": "[encoded data removed]",
      "text/plain": [
       "<Figure size 432x288 with 1 Axes>"
      ]
     },
     "metadata": {
      "needs_background": "light"
     },
     "output_type": "display_data"
    }
   ],
   "source": [
    "plt.subplot(2, 2, 2)\n",
    "plt.bar(data.index, data['月均工资'])\n",
    "plt.show()\n",
    "\n"
   ]
  },
  {
   "cell_type": "code",
   "execution_count": 142,
   "metadata": {},
   "outputs": [
    {
     "data": {
      "image/png": "[encoded data removed]",
      "text/plain": [
       "<Figure size 432x288 with 1 Axes>"
      ]
     },
     "metadata": {
      "needs_background": "light"
     },
     "output_type": "display_data"
    }
   ],
   "source": [
    "data[['月均工资']].boxplot()\n",
    "plt.show()"
   ]
  },
  {
   "cell_type": "code",
   "execution_count": 143,
   "metadata": {},
   "outputs": [
    {
     "data": {
      "text/plain": [
       "array([[<matplotlib.axes._subplots.AxesSubplot object at 0x123ada358>]],\n",
       "      dtype=object)"
      ]
     },
     "execution_count": 143,
     "metadata": {},
     "output_type": "execute_result"
    },
    {
     "data": {
      "image/png": "[encoded data removed]",
      "text/plain": [
       "<Figure size 432x288 with 1 Axes>"
      ]
     },
     "metadata": {
      "needs_background": "light"
     },
     "output_type": "display_data"
    }
   ],
   "source": [
    "data[['月均工资']].hist()"
   ]
  },
  {
   "cell_type": "code",
   "execution_count": 180,
   "metadata": {},
   "outputs": [
    {
     "data": {
      "image/png": "[encoded data removed]",
      "text/plain": [
       "<Figure size 432x288 with 3 Axes>"
      ]
     },
     "metadata": {
      "needs_background": "light"
     },
     "output_type": "display_data"
    }
   ],
   "source": [
    "plt.subplot(2, 2, 1)\n",
    "plt.plot(data.index, data['月均工资'])\n",
    "\n",
    "\n",
    "plt.subplot(2, 2, 2)\n",
    "plt.bar(data.index, data['月均工资'])\n",
    "\n",
    "\n",
    "plt.subplot(2, 1, 2)\n",
    "plt.bar(data.index, data['月均工资'])\n",
    "plt.show()"
   ]
  },
  {
   "cell_type": "code",
   "execution_count": 181,
   "metadata": {},
   "outputs": [
    {
     "data": {
      "text/html": [
       "<div>\n",
       "<style scoped>\n",
       "    .dataframe tbody tr th:only-of-type {\n",
       "        vertical-align: middle;\n",
       "    }\n",
       "\n",
       "    .dataframe tbody tr th {\n",
       "        vertical-align: top;\n",
       "    }\n",
       "\n",
       "    .dataframe thead th {\n",
       "        text-align: right;\n",
       "    }\n",
       "</style>\n",
       "<table border=\"1\" class=\"dataframe\">\n",
       "  <thead>\n",
       "    <tr style=\"text-align: right;\">\n",
       "      <th></th>\n",
       "      <th>A</th>\n",
       "      <th>B</th>\n",
       "      <th>C</th>\n",
       "      <th>D</th>\n",
       "    </tr>\n",
       "  </thead>\n",
       "  <tbody>\n",
       "    <tr>\n",
       "      <th>0</th>\n",
       "      <td>0.402880</td>\n",
       "      <td>0.354298</td>\n",
       "      <td>0.500614</td>\n",
       "      <td>0.445177</td>\n",
       "    </tr>\n",
       "    <tr>\n",
       "      <th>1</th>\n",
       "      <td>0.090433</td>\n",
       "      <td>0.273563</td>\n",
       "      <td>0.943477</td>\n",
       "      <td>0.026545</td>\n",
       "    </tr>\n",
       "    <tr>\n",
       "      <th>2</th>\n",
       "      <td>0.039999</td>\n",
       "      <td>0.283140</td>\n",
       "      <td>0.582344</td>\n",
       "      <td>0.990893</td>\n",
       "    </tr>\n",
       "    <tr>\n",
       "      <th>3</th>\n",
       "      <td>0.992642</td>\n",
       "      <td>0.993117</td>\n",
       "      <td>0.110048</td>\n",
       "      <td>0.664481</td>\n",
       "    </tr>\n",
       "    <tr>\n",
       "      <th>4</th>\n",
       "      <td>0.523987</td>\n",
       "      <td>0.173150</td>\n",
       "      <td>0.942960</td>\n",
       "      <td>0.241860</td>\n",
       "    </tr>\n",
       "    <tr>\n",
       "      <th>5</th>\n",
       "      <td>0.998932</td>\n",
       "      <td>0.582694</td>\n",
       "      <td>0.183279</td>\n",
       "      <td>0.386845</td>\n",
       "    </tr>\n",
       "    <tr>\n",
       "      <th>6</th>\n",
       "      <td>0.189674</td>\n",
       "      <td>0.410771</td>\n",
       "      <td>0.594680</td>\n",
       "      <td>0.716586</td>\n",
       "    </tr>\n",
       "    <tr>\n",
       "      <th>7</th>\n",
       "      <td>0.486891</td>\n",
       "      <td>0.309590</td>\n",
       "      <td>0.577441</td>\n",
       "      <td>0.441708</td>\n",
       "    </tr>\n",
       "    <tr>\n",
       "      <th>8</th>\n",
       "      <td>0.359678</td>\n",
       "      <td>0.321332</td>\n",
       "      <td>0.208207</td>\n",
       "      <td>0.451259</td>\n",
       "    </tr>\n",
       "    <tr>\n",
       "      <th>9</th>\n",
       "      <td>0.491843</td>\n",
       "      <td>0.899076</td>\n",
       "      <td>0.729360</td>\n",
       "      <td>0.770090</td>\n",
       "    </tr>\n",
       "  </tbody>\n",
       "</table>\n",
       "</div>"
      ],
      "text/plain": [
       "          A         B         C         D\n",
       "0  0.402880  0.354298  0.500614  0.445177\n",
       "1  0.090433  0.273563  0.943477  0.026545\n",
       "2  0.039999  0.283140  0.582344  0.990893\n",
       "3  0.992642  0.993117  0.110048  0.664481\n",
       "4  0.523987  0.173150  0.942960  0.241860\n",
       "5  0.998932  0.582694  0.183279  0.386845\n",
       "6  0.189674  0.410771  0.594680  0.716586\n",
       "7  0.486891  0.309590  0.577441  0.441708\n",
       "8  0.359678  0.321332  0.208207  0.451259\n",
       "9  0.491843  0.899076  0.729360  0.770090"
      ]
     },
     "execution_count": 181,
     "metadata": {},
     "output_type": "execute_result"
    }
   ],
   "source": [
    "import numpy as np\n",
    "\n",
    "data = pd.DataFrame(np.random.rand(10, 4), columns=('A','B','C','D'))\n",
    "data"
   ]
  },
  {
   "cell_type": "code",
   "execution_count": 182,
   "metadata": {},
   "outputs": [
    {
     "data": {
      "image/png": "[encoded data removed]",
      "text/plain": [
       "<Figure size 432x288 with 1 Axes>"
      ]
     },
     "metadata": {
      "needs_background": "light"
     },
     "output_type": "display_data"
    }
   ],
   "source": [
    "data.plot(kind='barh')\n",
    "plt.show()"
   ]
  },
  {
   "cell_type": "code",
   "execution_count": 184,
   "metadata": {},
   "outputs": [
    {
     "data": {
      "image/png": "[encoded data removed]",
      "text/plain": [
       "<Figure size 432x288 with 1 Axes>"
      ]
     },
     "metadata": {
      "needs_background": "light"
     },
     "output_type": "display_data"
    }
   ],
   "source": [
    "data.plot(kind='barh', stacked = True)\n",
    "plt.show()"
   ]
  },
  {
   "cell_type": "code",
   "execution_count": 185,
   "metadata": {},
   "outputs": [
    {
     "data": {
      "text/plain": [
       "<Figure size 432x288 with 0 Axes>"
      ]
     },
     "metadata": {},
     "output_type": "display_data"
    }
   ],
   "source": [
    "plt.savefig('./test.png')"
   ]
  },
  {
   "cell_type": "code",
   "execution_count": null,
   "metadata": {},
   "outputs": [],
   "source": []
  }
 ],
 "metadata": {
  "kernelspec": {
   "display_name": "Python 3",
   "language": "python",
   "name": "python3"
  },
  "language_info": {
   "codemirror_mode": {
    "name": "ipython",
    "version": 3
   },
   "file_extension": ".py",
   "mimetype": "text/x-python",
   "name": "python",
   "nbconvert_exporter": "python",
   "pygments_lexer": "ipython3",
   "version": "3.7.1"
  }
 },
 "nbformat": 4,
 "nbformat_minor": 2
}
