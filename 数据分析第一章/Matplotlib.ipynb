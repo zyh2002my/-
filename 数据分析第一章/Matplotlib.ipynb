{
 "cells": [
  {
   "cell_type": "code",
   "execution_count": 1,
   "metadata": {},
   "outputs": [],
   "source": [
    "\n",
    "# 主要是二维图像的绘图，也可以绘制少量的三维图像\n",
    "# 1。折线图，在时间间隔相等的情况下，查看数据的变化与趋势\n",
    "# 2。柱状图，有条形不等的柱子表示数据的分布情况，在不同时间和不同条件下查看两个或者两个以上的值\n",
    "# 3。水平的柱状图\n",
    "# 4。分箱图，表示数据的分布和堆叠情况，或者使用颜色的深浅表示数据的大小\n",
    "# 5。散点图，数据点在直角坐标系中的分布情况，y=f(x), 因变量随自变量的变化趋势，分类算法中对不同数据进行区分\n",
    "# 6。并状图，每一项大小和总和中的比例，对比分析中使用\n",
    "# 7。直方图表示数据的分布情况，x数据类型，y分布情况\n",
    "# 8。箱线图，用于数据清理，对于上下边界以外的值标记成异常\n",
    "# 9。3D图形绘制\n",
    "import matplotlib.pyplot as plt\n",
    "import numpy as np"
   ]
  },
  {
   "cell_type": "code",
   "execution_count": 2,
   "metadata": {},
   "outputs": [
    {
     "data": {
      "text/plain": [
       "array([[4.7793428 , 0.77860395],\n",
       "       [2.65496453, 0.36516992],\n",
       "       [4.09101688, 4.53509252],\n",
       "       [0.17330426, 0.44275498],\n",
       "       [1.6748371 , 1.71270392],\n",
       "       [0.67842787, 1.07208742],\n",
       "       [3.22614798, 4.3305266 ],\n",
       "       [2.84217431, 1.9755612 ],\n",
       "       [4.50944493, 0.1672627 ],\n",
       "       [2.84072666, 1.46961339],\n",
       "       [4.20744995, 1.92566083],\n",
       "       [1.17285688, 0.66922803],\n",
       "       [2.77628903, 1.71665992],\n",
       "       [2.75349475, 1.00296525],\n",
       "       [0.08571919, 2.25013418],\n",
       "       [3.84460881, 2.08221183],\n",
       "       [1.08349353, 1.3680097 ],\n",
       "       [4.26272665, 1.60595083],\n",
       "       [4.10077365, 1.3861178 ],\n",
       "       [3.08582127, 1.37692586],\n",
       "       [2.87606846, 2.10416054],\n",
       "       [1.69514447, 3.28879624],\n",
       "       [3.22529674, 1.36288553],\n",
       "       [3.16812971, 4.1502813 ],\n",
       "       [0.90758657, 4.47302203],\n",
       "       [2.75143627, 3.85445194],\n",
       "       [4.99481888, 4.29458374],\n",
       "       [3.81391595, 4.90103265],\n",
       "       [2.43766931, 2.96866537],\n",
       "       [4.09811831, 0.56451779],\n",
       "       [3.11578529, 3.2866813 ],\n",
       "       [1.89910936, 1.90478991],\n",
       "       [3.47541231, 3.97777216],\n",
       "       [4.4479272 , 3.96967482],\n",
       "       [2.84148717, 2.01311237],\n",
       "       [2.88433646, 4.00930523],\n",
       "       [0.26805151, 4.08287806],\n",
       "       [1.75517191, 0.01127852],\n",
       "       [2.33011912, 3.98882319],\n",
       "       [4.27254423, 2.69031364],\n",
       "       [3.73946066, 1.93514433],\n",
       "       [3.72567384, 3.71677621],\n",
       "       [2.5596684 , 2.45703074],\n",
       "       [1.39500984, 3.49230087],\n",
       "       [2.26185463, 2.7329776 ],\n",
       "       [0.34578932, 4.67087956],\n",
       "       [4.55925259, 3.11905637],\n",
       "       [2.75549448, 2.22646111],\n",
       "       [3.10682755, 3.90523412],\n",
       "       [3.70026565, 3.77386918],\n",
       "       [0.73602036, 4.53952019],\n",
       "       [0.52242769, 1.61141573],\n",
       "       [1.3443263 , 2.25767444],\n",
       "       [1.81838684, 0.30039418],\n",
       "       [1.31597686, 1.93567279],\n",
       "       [4.70662462, 1.05621188],\n",
       "       [4.23151254, 4.35435416],\n",
       "       [4.22461738, 1.87827112],\n",
       "       [4.56795433, 3.70897697],\n",
       "       [4.63690636, 3.44236752],\n",
       "       [3.01924652, 4.27778723],\n",
       "       [0.15444667, 4.36164189],\n",
       "       [1.23775601, 4.4558891 ],\n",
       "       [3.70055627, 0.86107807],\n",
       "       [3.82616459, 3.12249009],\n",
       "       [1.91083221, 3.91971418],\n",
       "       [0.98554793, 0.25876532],\n",
       "       [0.49332619, 2.01462233],\n",
       "       [4.76317518, 2.36653721],\n",
       "       [1.3059345 , 3.86045732],\n",
       "       [3.90118309, 4.21339195],\n",
       "       [4.59207499, 3.56437006],\n",
       "       [1.53691565, 3.55588599],\n",
       "       [2.2479753 , 0.21313938],\n",
       "       [1.91195587, 4.71492044],\n",
       "       [0.90918947, 2.79145518],\n",
       "       [0.35562723, 0.5345088 ],\n",
       "       [0.1549331 , 3.29499208],\n",
       "       [4.90387768, 1.23058568],\n",
       "       [3.82107582, 0.10470154],\n",
       "       [0.45263525, 2.12502459],\n",
       "       [2.14202026, 4.81109001],\n",
       "       [0.71363141, 1.6490618 ],\n",
       "       [4.28783937, 0.69633948],\n",
       "       [2.74505068, 4.32290813],\n",
       "       [3.95042728, 2.0064895 ],\n",
       "       [3.18443233, 1.38325296],\n",
       "       [0.32133777, 4.27710519],\n",
       "       [2.44646631, 1.50754908],\n",
       "       [3.92833209, 4.70532321],\n",
       "       [1.66347572, 2.18288129],\n",
       "       [3.04317938, 3.98115802],\n",
       "       [4.40341607, 3.35677515],\n",
       "       [1.83138024, 0.05562197],\n",
       "       [3.93646556, 1.46179484],\n",
       "       [4.77930986, 2.31352048],\n",
       "       [0.2657451 , 1.33359993],\n",
       "       [2.20478556, 2.45641331],\n",
       "       [4.60047193, 2.05478491],\n",
       "       [2.18595066, 0.19183597]])"
      ]
     },
     "execution_count": 2,
     "metadata": {},
     "output_type": "execute_result"
    }
   ],
   "source": [
    "rarray=np.random.uniform(0.0,5.0,size=(100,2))  # 从均匀分布中 随机采样\n",
    "rarray"
   ]
  },
  {
   "cell_type": "code",
   "execution_count": 3,
   "metadata": {},
   "outputs": [],
   "source": [
    "\n",
    "rarray2=np.random.uniform(4.2,10.0,size=(100,2))"
   ]
  },
  {
   "cell_type": "code",
   "execution_count": 4,
   "metadata": {},
   "outputs": [],
   "source": [
    "np.savetxt('./matplot_test_data.txt',rarray,\n",
    "           fmt=\"%f %f\",\n",
    "           delimiter='\\n')\n",
    "np.savetxt('./matplot_test_data2.txt',rarray2,\n",
    "           fmt=\"%f %f\",\n",
    "           delimiter='\\n')"
   ]
  },
  {
   "cell_type": "code",
   "execution_count": 5,
   "metadata": {},
   "outputs": [],
   "source": [
    "a = np.loadtxt('./matplot_test_data.txt')\n",
    "b = np.loadtxt('./matplot_test_data2.txt')"
   ]
  },
  {
   "cell_type": "code",
   "execution_count": 9,
   "metadata": {},
   "outputs": [
    {
     "data": {
      "text/plain": [
       "<matplotlib.collections.PathCollection at 0x11f9b0320>"
      ]
     },
     "execution_count": 9,
     "metadata": {},
     "output_type": "execute_result"
    },
    {
     "data": {
      "image/png": "[encoded data removed]",
      "text/plain": [
       "<Figure size 432x288 with 1 Axes>"
      ]
     },
     "metadata": {
      "needs_background": "light"
     },
     "output_type": "display_data"
    }
   ],
   "source": [
    "plt.scatter(a[:,0], a[:,1])\n",
    "plt.scatter(b[:,0], a[:,1])"
   ]
  },
  {
   "cell_type": "code",
   "execution_count": 10,
   "metadata": {},
   "outputs": [
    {
     "data": {
      "text/plain": [
       "(100, 2)"
      ]
     },
     "execution_count": 10,
     "metadata": {},
     "output_type": "execute_result"
    }
   ],
   "source": [
    "a.shape"
   ]
  },
  {
   "cell_type": "code",
   "execution_count": 14,
   "metadata": {},
   "outputs": [
    {
     "data": {
      "image/png": "[encoded data removed]",
      "text/plain": [
       "<Figure size 432x288 with 1 Axes>"
      ]
     },
     "metadata": {
      "needs_background": "light"
     },
     "output_type": "display_data"
    }
   ],
   "source": [
    "plt.scatter(3,5 ,s = 200, color = '#ff0000', alpha=0.3, marker='^')\n",
    "plt.show()"
   ]
  },
  {
   "cell_type": "code",
   "execution_count": 15,
   "metadata": {},
   "outputs": [
    {
     "data": {
      "image/png": "[encoded data removed]",
      "text/plain": [
       "<Figure size 432x288 with 1 Axes>"
      ]
     },
     "metadata": {
      "needs_background": "light"
     },
     "output_type": "display_data"
    }
   ],
   "source": [
    "x = [1, 2, 3, 4]\n",
    "y = [2, 3, 4, 8]\n",
    "plt.scatter(x, y, s=[20, 40, 80, 300], color=['r', 'g', 'b', 'y'])\n",
    "plt.show()"
   ]
  },
  {
   "cell_type": "code",
   "execution_count": 16,
   "metadata": {},
   "outputs": [],
   "source": [
    "x1 = np.random.randint(1, 10, size=(10, 2))\n",
    "x2 = np.random.randint(1, 10, size=(10, 2))"
   ]
  },
  {
   "cell_type": "code",
   "execution_count": 19,
   "metadata": {},
   "outputs": [
    {
     "data": {
      "text/plain": [
       "(array([[8, 8],\n",
       "        [4, 6],\n",
       "        [1, 6],\n",
       "        [3, 8],\n",
       "        [4, 6],\n",
       "        [6, 2],\n",
       "        [5, 9],\n",
       "        [7, 9],\n",
       "        [5, 9],\n",
       "        [2, 4]]), array([[7, 6],\n",
       "        [4, 4],\n",
       "        [1, 6],\n",
       "        [3, 6],\n",
       "        [4, 7],\n",
       "        [7, 3],\n",
       "        [8, 5],\n",
       "        [5, 1],\n",
       "        [4, 2],\n",
       "        [4, 1]]))"
      ]
     },
     "execution_count": 19,
     "metadata": {},
     "output_type": "execute_result"
    }
   ],
   "source": [
    "x1,x2"
   ]
  },
  {
   "cell_type": "code",
   "execution_count": 20,
   "metadata": {},
   "outputs": [
    {
     "data": {
      "image/png": "[encoded data removed]",
      "text/plain": [
       "<Figure size 432x288 with 1 Axes>"
      ]
     },
     "metadata": {
      "needs_background": "light"
     },
     "output_type": "display_data"
    }
   ],
   "source": [
    "plt.scatter(x1[:,0],x1[:,1], color='r')\n",
    "plt.scatter(x2[:,0],x2[:,1],color='g')\n",
    "plt.show()"
   ]
  },
  {
   "cell_type": "code",
   "execution_count": 27,
   "metadata": {},
   "outputs": [],
   "source": [
    "nan_high=np.random.uniform(100,200,size=18)\n",
    "nan_high\n",
    "nan_age = np.arange(19)\n",
    "nan_age = np.delete(nan_age,0)\n",
    "nan_age\n",
    "nan_age = nan_age.reshape(18,1)\n",
    "nan_age\n",
    "nan_high = nan_high.reshape(18,1)\n",
    "nan_high\n",
    "\n",
    "nan = np.concatenate((nan_age,nan_high),axis=1)"
   ]
  },
  {
   "cell_type": "code",
   "execution_count": 28,
   "metadata": {},
   "outputs": [
    {
     "data": {
      "text/plain": [
       "array([[  1.        , 112.12635249],\n",
       "       [  2.        , 197.92782562],\n",
       "       [  3.        , 184.17819502],\n",
       "       [  4.        , 115.45751446],\n",
       "       [  5.        , 166.0292099 ],\n",
       "       [  6.        , 166.05619428],\n",
       "       [  7.        , 128.70458957],\n",
       "       [  8.        , 189.35181877],\n",
       "       [  9.        , 132.59417735],\n",
       "       [ 10.        , 188.07714165],\n",
       "       [ 11.        , 138.58299445],\n",
       "       [ 12.        , 148.05635564],\n",
       "       [ 13.        , 111.8215461 ],\n",
       "       [ 14.        , 135.60401112],\n",
       "       [ 15.        , 116.58561022],\n",
       "       [ 16.        , 104.23784539],\n",
       "       [ 17.        , 104.16089716],\n",
       "       [ 18.        , 141.44849699]])"
      ]
     },
     "execution_count": 28,
     "metadata": {},
     "output_type": "execute_result"
    }
   ],
   "source": [
    "nan"
   ]
  },
  {
   "cell_type": "code",
   "execution_count": 29,
   "metadata": {},
   "outputs": [],
   "source": [
    "\n",
    "nv_high=np.random.uniform(70,180,size=18)\n",
    "nv_age= np.arange(19)\n",
    "nv_age =np.delete(nv_age,0)\n",
    "nv_age = nan_age.reshape(18,1)\n",
    "nv_high = nv_high.reshape(18,1)\n",
    "\n",
    "nv =  np.concatenate((nv_age,nv_high),axis=1)"
   ]
  },
  {
   "cell_type": "code",
   "execution_count": 31,
   "metadata": {},
   "outputs": [
    {
     "data": {
      "text/plain": [
       "array([[  1.        , 161.03620724],\n",
       "       [  2.        , 106.93111531],\n",
       "       [  3.        , 170.66940749],\n",
       "       [  4.        , 170.99874777],\n",
       "       [  5.        , 174.01238192],\n",
       "       [  6.        , 177.19121064],\n",
       "       [  7.        ,  73.40976125],\n",
       "       [  8.        , 149.29669787],\n",
       "       [  9.        , 173.94624209],\n",
       "       [ 10.        , 176.52819681],\n",
       "       [ 11.        ,  91.71671338],\n",
       "       [ 12.        , 122.03148091],\n",
       "       [ 13.        ,  84.11162855],\n",
       "       [ 14.        ,  93.63523002],\n",
       "       [ 15.        ,  81.65034773],\n",
       "       [ 16.        , 125.46958555],\n",
       "       [ 17.        , 130.33551562],\n",
       "       [ 18.        , 178.00782847]])"
      ]
     },
     "execution_count": 31,
     "metadata": {},
     "output_type": "execute_result"
    }
   ],
   "source": [
    "nv"
   ]
  },
  {
   "cell_type": "code",
   "execution_count": 32,
   "metadata": {},
   "outputs": [],
   "source": [
    "X = np.concatenate((nan,nv),axis=0)"
   ]
  },
  {
   "cell_type": "code",
   "execution_count": 33,
   "metadata": {},
   "outputs": [
    {
     "data": {
      "text/plain": [
       "array([[  1.        , 112.12635249],\n",
       "       [  2.        , 197.92782562],\n",
       "       [  3.        , 184.17819502],\n",
       "       [  4.        , 115.45751446],\n",
       "       [  5.        , 166.0292099 ],\n",
       "       [  6.        , 166.05619428],\n",
       "       [  7.        , 128.70458957],\n",
       "       [  8.        , 189.35181877],\n",
       "       [  9.        , 132.59417735],\n",
       "       [ 10.        , 188.07714165],\n",
       "       [ 11.        , 138.58299445],\n",
       "       [ 12.        , 148.05635564],\n",
       "       [ 13.        , 111.8215461 ],\n",
       "       [ 14.        , 135.60401112],\n",
       "       [ 15.        , 116.58561022],\n",
       "       [ 16.        , 104.23784539],\n",
       "       [ 17.        , 104.16089716],\n",
       "       [ 18.        , 141.44849699],\n",
       "       [  1.        , 161.03620724],\n",
       "       [  2.        , 106.93111531],\n",
       "       [  3.        , 170.66940749],\n",
       "       [  4.        , 170.99874777],\n",
       "       [  5.        , 174.01238192],\n",
       "       [  6.        , 177.19121064],\n",
       "       [  7.        ,  73.40976125],\n",
       "       [  8.        , 149.29669787],\n",
       "       [  9.        , 173.94624209],\n",
       "       [ 10.        , 176.52819681],\n",
       "       [ 11.        ,  91.71671338],\n",
       "       [ 12.        , 122.03148091],\n",
       "       [ 13.        ,  84.11162855],\n",
       "       [ 14.        ,  93.63523002],\n",
       "       [ 15.        ,  81.65034773],\n",
       "       [ 16.        , 125.46958555],\n",
       "       [ 17.        , 130.33551562],\n",
       "       [ 18.        , 178.00782847]])"
      ]
     },
     "execution_count": 33,
     "metadata": {},
     "output_type": "execute_result"
    }
   ],
   "source": [
    "X"
   ]
  },
  {
   "cell_type": "code",
   "execution_count": 34,
   "metadata": {},
   "outputs": [
    {
     "data": {
      "text/plain": [
       "array([0., 0., 0., 0., 0., 0., 0., 0., 0., 0., 0., 0., 0., 0., 0., 0., 0.,\n",
       "       0., 1., 1., 1., 1., 1., 1., 1., 1., 1., 1., 1., 1., 1., 1., 1., 1.,\n",
       "       1., 1.])"
      ]
     },
     "execution_count": 34,
     "metadata": {},
     "output_type": "execute_result"
    }
   ],
   "source": [
    "y = np.concatenate([np.zeros(18),np.ones(18)])\n",
    "y"
   ]
  },
  {
   "cell_type": "code",
   "execution_count": 35,
   "metadata": {},
   "outputs": [
    {
     "data": {
      "text/plain": [
       "array([[  1.        , 161.03620724],\n",
       "       [  2.        , 106.93111531],\n",
       "       [  3.        , 170.66940749],\n",
       "       [  4.        , 170.99874777],\n",
       "       [  5.        , 174.01238192],\n",
       "       [  6.        , 177.19121064],\n",
       "       [  7.        ,  73.40976125],\n",
       "       [  8.        , 149.29669787],\n",
       "       [  9.        , 173.94624209],\n",
       "       [ 10.        , 176.52819681],\n",
       "       [ 11.        ,  91.71671338],\n",
       "       [ 12.        , 122.03148091],\n",
       "       [ 13.        ,  84.11162855],\n",
       "       [ 14.        ,  93.63523002],\n",
       "       [ 15.        ,  81.65034773],\n",
       "       [ 16.        , 125.46958555],\n",
       "       [ 17.        , 130.33551562],\n",
       "       [ 18.        , 178.00782847]])"
      ]
     },
     "execution_count": 35,
     "metadata": {},
     "output_type": "execute_result"
    }
   ],
   "source": [
    "X[y == 1]"
   ]
  },
  {
   "cell_type": "code",
   "execution_count": 36,
   "metadata": {},
   "outputs": [
    {
     "data": {
      "text/plain": [
       "<matplotlib.collections.PathCollection at 0x11ff334a8>"
      ]
     },
     "execution_count": 36,
     "metadata": {},
     "output_type": "execute_result"
    },
    {
     "data": {
      "image/png": "[encoded data removed]",
      "text/plain": [
       "<Figure size 432x288 with 1 Axes>"
      ]
     },
     "metadata": {
      "needs_background": "light"
     },
     "output_type": "display_data"
    }
   ],
   "source": [
    "plt.scatter(X[y==0, 0], X[y==0, 1],color='r')\n",
    "plt.scatter(X[y==1, 0], X[y==1, 1],color='g')"
   ]
  },
  {
   "cell_type": "code",
   "execution_count": 37,
   "metadata": {},
   "outputs": [
    {
     "data": {
      "text/plain": [
       "array([0, 1, 2, 3, 4, 5, 6, 7, 8, 9])"
      ]
     },
     "execution_count": 37,
     "metadata": {},
     "output_type": "execute_result"
    }
   ],
   "source": [
    "x = np.arange(10)\n",
    "x"
   ]
  },
  {
   "cell_type": "code",
   "execution_count": 38,
   "metadata": {},
   "outputs": [
    {
     "data": {
      "text/plain": [
       "array([4.17022005e-01, 7.20324493e-01, 1.14374817e-04, 3.02332573e-01,\n",
       "       1.46755891e-01, 9.23385948e-02, 1.86260211e-01, 3.45560727e-01,\n",
       "       3.96767474e-01, 5.38816734e-01])"
      ]
     },
     "execution_count": 38,
     "metadata": {},
     "output_type": "execute_result"
    }
   ],
   "source": [
    "np.random.seed(1)\n",
    "y = np.random.random(size=10)\n",
    "y"
   ]
  },
  {
   "cell_type": "code",
   "execution_count": 39,
   "metadata": {},
   "outputs": [
    {
     "data": {
      "image/png": "[encoded data removed]",
      "text/plain": [
       "<Figure size 432x288 with 1 Axes>"
      ]
     },
     "metadata": {
      "needs_background": "light"
     },
     "output_type": "display_data"
    }
   ],
   "source": [
    "\n",
    "# linestyle =  - -- -. :\n",
    "plt.plot(x, y, color='r',linestyle='--',marker='o')\n",
    "plt.show()"
   ]
  },
  {
   "cell_type": "code",
   "execution_count": 40,
   "metadata": {},
   "outputs": [
    {
     "data": {
      "image/png": "[encoded data removed]",
      "text/plain": [
       "<Figure size 432x288 with 1 Axes>"
      ]
     },
     "metadata": {
      "needs_background": "light"
     },
     "output_type": "display_data"
    }
   ],
   "source": [
    "# 缩写\n",
    "plt.plot(x, y, 'b--o')\n",
    "plt.show()"
   ]
  },
  {
   "cell_type": "code",
   "execution_count": 41,
   "metadata": {},
   "outputs": [
    {
     "data": {
      "text/plain": [
       "array([ 0.        ,  0.1010101 ,  0.2020202 ,  0.3030303 ,  0.4040404 ,\n",
       "        0.50505051,  0.60606061,  0.70707071,  0.80808081,  0.90909091,\n",
       "        1.01010101,  1.11111111,  1.21212121,  1.31313131,  1.41414141,\n",
       "        1.51515152,  1.61616162,  1.71717172,  1.81818182,  1.91919192,\n",
       "        2.02020202,  2.12121212,  2.22222222,  2.32323232,  2.42424242,\n",
       "        2.52525253,  2.62626263,  2.72727273,  2.82828283,  2.92929293,\n",
       "        3.03030303,  3.13131313,  3.23232323,  3.33333333,  3.43434343,\n",
       "        3.53535354,  3.63636364,  3.73737374,  3.83838384,  3.93939394,\n",
       "        4.04040404,  4.14141414,  4.24242424,  4.34343434,  4.44444444,\n",
       "        4.54545455,  4.64646465,  4.74747475,  4.84848485,  4.94949495,\n",
       "        5.05050505,  5.15151515,  5.25252525,  5.35353535,  5.45454545,\n",
       "        5.55555556,  5.65656566,  5.75757576,  5.85858586,  5.95959596,\n",
       "        6.06060606,  6.16161616,  6.26262626,  6.36363636,  6.46464646,\n",
       "        6.56565657,  6.66666667,  6.76767677,  6.86868687,  6.96969697,\n",
       "        7.07070707,  7.17171717,  7.27272727,  7.37373737,  7.47474747,\n",
       "        7.57575758,  7.67676768,  7.77777778,  7.87878788,  7.97979798,\n",
       "        8.08080808,  8.18181818,  8.28282828,  8.38383838,  8.48484848,\n",
       "        8.58585859,  8.68686869,  8.78787879,  8.88888889,  8.98989899,\n",
       "        9.09090909,  9.19191919,  9.29292929,  9.39393939,  9.49494949,\n",
       "        9.5959596 ,  9.6969697 ,  9.7979798 ,  9.8989899 , 10.        ])"
      ]
     },
     "execution_count": 41,
     "metadata": {},
     "output_type": "execute_result"
    }
   ],
   "source": [
    "# 平滑\n",
    "x=np.linspace(0,10,100)\n",
    "x"
   ]
  },
  {
   "cell_type": "code",
   "execution_count": 42,
   "metadata": {},
   "outputs": [
    {
     "data": {
      "text/plain": [
       "array([ 0.        ,  0.10083842,  0.20064886,  0.2984138 ,  0.39313661,\n",
       "        0.48385164,  0.56963411,  0.64960951,  0.72296256,  0.78894546,\n",
       "        0.84688556,  0.8961922 ,  0.93636273,  0.96698762,  0.98775469,\n",
       "        0.99845223,  0.99897117,  0.98930624,  0.96955595,  0.93992165,\n",
       "        0.90070545,  0.85230712,  0.79522006,  0.73002623,  0.65739025,\n",
       "        0.57805259,  0.49282204,  0.40256749,  0.30820902,  0.21070855,\n",
       "        0.11106004,  0.01027934, -0.09060615, -0.19056796, -0.28858706,\n",
       "       -0.38366419, -0.47483011, -0.56115544, -0.64176014, -0.7158225 ,\n",
       "       -0.7825875 , -0.84137452, -0.89158426, -0.93270486, -0.96431712,\n",
       "       -0.98609877, -0.99782778, -0.99938456, -0.99075324, -0.97202182,\n",
       "       -0.94338126, -0.90512352, -0.85763861, -0.80141062, -0.73701276,\n",
       "       -0.66510151, -0.58640998, -0.50174037, -0.41195583, -0.31797166,\n",
       "       -0.22074597, -0.12126992, -0.0205576 ,  0.0803643 ,  0.18046693,\n",
       "        0.27872982,  0.37415123,  0.46575841,  0.55261747,  0.63384295,\n",
       "        0.7086068 ,  0.77614685,  0.83577457,  0.8868821 ,  0.92894843,\n",
       "        0.96154471,  0.98433866,  0.99709789,  0.99969234,  0.99209556,\n",
       "        0.97438499,  0.94674118,  0.90944594,  0.86287948,  0.8075165 ,\n",
       "        0.74392141,  0.6727425 ,  0.59470541,  0.51060568,  0.42130064,\n",
       "        0.32770071,  0.23076008,  0.13146699,  0.03083368, -0.07011396,\n",
       "       -0.17034683, -0.26884313, -0.36459873, -0.45663749, -0.54402111])"
      ]
     },
     "execution_count": 42,
     "metadata": {},
     "output_type": "execute_result"
    }
   ],
   "source": [
    "y = np.sin(x)\n",
    "y"
   ]
  },
  {
   "cell_type": "code",
   "execution_count": 43,
   "metadata": {},
   "outputs": [
    {
     "data": {
      "image/png": "[encoded data removed]",
      "text/plain": [
       "<Figure size 432x288 with 1 Axes>"
      ]
     },
     "metadata": {
      "needs_background": "light"
     },
     "output_type": "display_data"
    }
   ],
   "source": [
    "plt.plot(x, y)\n",
    "plt.show()"
   ]
  },
  {
   "cell_type": "code",
   "execution_count": 44,
   "metadata": {},
   "outputs": [
    {
     "data": {
      "text/plain": [
       "array([ 1.        ,  0.99490282,  0.97966323,  0.95443659,  0.91948007,\n",
       "        0.87515004,  0.8218984 ,  0.76026803,  0.69088721,  0.61446323,\n",
       "        0.53177518,  0.44366602,  0.35103397,  0.25482335,  0.15601496,\n",
       "        0.0556161 , -0.04534973, -0.14585325, -0.24486989, -0.34139023,\n",
       "       -0.43443032, -0.52304166, -0.60632092, -0.68341913, -0.75355031,\n",
       "       -0.81599952, -0.87013012, -0.91539031, -0.95131866, -0.97754893,\n",
       "       -0.9938137 , -0.99994717, -0.9958868 , -0.981674  , -0.95745366,\n",
       "       -0.92347268, -0.88007748, -0.82771044, -0.76690542, -0.69828229,\n",
       "       -0.6225406 , -0.54045251, -0.45285485, -0.36064061, -0.26474988,\n",
       "       -0.16616018, -0.06587659,  0.03507857,  0.13567613,  0.23489055,\n",
       "        0.33171042,  0.4251487 ,  0.51425287,  0.59811455,  0.67587883,\n",
       "        0.74675295,  0.8100144 ,  0.86501827,  0.91120382,  0.94810022,\n",
       "        0.97533134,  0.99261957,  0.99978867,  0.99676556,  0.98358105,\n",
       "        0.96036956,  0.9273677 ,  0.88491192,  0.83343502,  0.77346177,\n",
       "        0.70560358,  0.63055219,  0.54907273,  0.46199582,  0.37020915,\n",
       "        0.27464844,  0.17628785,  0.07613012, -0.0248037 , -0.12548467,\n",
       "       -0.2248864 , -0.32199555, -0.41582217, -0.50540974, -0.58984498,\n",
       "       -0.66826712, -0.7398767 , -0.8039437 , -0.859815  , -0.90692104,\n",
       "       -0.94478159, -0.97301068, -0.99132055, -0.99952453, -0.99753899,\n",
       "       -0.98538417, -0.96318398, -0.93116473, -0.88965286, -0.83907153])"
      ]
     },
     "execution_count": 44,
     "metadata": {},
     "output_type": "execute_result"
    }
   ],
   "source": [
    "y2 = np.cos(x)\n",
    "y2"
   ]
  },
  {
   "cell_type": "code",
   "execution_count": 45,
   "metadata": {},
   "outputs": [
    {
     "data": {
      "image/png": "[encoded data removed]",
      "text/plain": [
       "<Figure size 432x288 with 1 Axes>"
      ]
     },
     "metadata": {
      "needs_background": "light"
     },
     "output_type": "display_data"
    }
   ],
   "source": [
    "plt.plot(x, y)\n",
    "plt.plot(x, y2)\n",
    "plt.show()"
   ]
  },
  {
   "cell_type": "code",
   "execution_count": 46,
   "metadata": {},
   "outputs": [
    {
     "data": {
      "image/png": "[encoded data removed]",
      "text/plain": [
       "<Figure size 432x288 with 1 Axes>"
      ]
     },
     "metadata": {
      "needs_background": "light"
     },
     "output_type": "display_data"
    }
   ],
   "source": [
    "plt.plot(x, y,label='sin(x)')\n",
    "plt.plot(x, y2,label='cos(x)')\n",
    "plt.legend()\n",
    "plt.show()"
   ]
  },
  {
   "cell_type": "code",
   "execution_count": 47,
   "metadata": {},
   "outputs": [
    {
     "data": {
      "image/png": "[encoded data removed]",
      "text/plain": [
       "<Figure size 432x288 with 1 Axes>"
      ]
     },
     "metadata": {
      "needs_background": "light"
     },
     "output_type": "display_data"
    }
   ],
   "source": [
    "plt.plot(x, y,label='sin(x)')\n",
    "plt.plot(x, y2,label='cos(x)')\n",
    "plt.legend()\n",
    "plt.axis([-5,15,-2,2])\n",
    "plt.show()"
   ]
  },
  {
   "cell_type": "code",
   "execution_count": 48,
   "metadata": {},
   "outputs": [
    {
     "data": {
      "image/png": "[encoded data removed]",
      "text/plain": [
       "<Figure size 432x288 with 1 Axes>"
      ]
     },
     "metadata": {
      "needs_background": "light"
     },
     "output_type": "display_data"
    }
   ],
   "source": [
    "plt.plot(x, y,label='sin(x)')\n",
    "plt.plot(x, y2,label='cos(x)')\n",
    "plt.legend()\n",
    "plt.axis([5,10,0,1.2])\n",
    "plt.show()"
   ]
  },
  {
   "cell_type": "code",
   "execution_count": 49,
   "metadata": {},
   "outputs": [],
   "source": [
    "## matplotlib绘制柱状图和饼状图"
   ]
  },
  {
   "cell_type": "code",
   "execution_count": 51,
   "metadata": {},
   "outputs": [
    {
     "data": {
      "image/png": "[encoded data removed]",
      "text/plain": [
       "<Figure size 432x288 with 1 Axes>"
      ]
     },
     "metadata": {
      "needs_background": "light"
     },
     "output_type": "display_data"
    }
   ],
   "source": [
    "x = ['Q1','Q2','Q3','Q4']\n",
    "y=[10,30,20,60]\n",
    "plt.bar(x,y, color='g',width=0.3)\n",
    "plt.grid(True)\n",
    "plt.show()"
   ]
  },
  {
   "cell_type": "code",
   "execution_count": 55,
   "metadata": {},
   "outputs": [
    {
     "name": "stdout",
     "output_type": "stream",
     "text": [
      "4\n"
     ]
    },
    {
     "data": {
      "image/png": "[encoded data removed]",
      "text/plain": [
       "<Figure size 432x288 with 1 Axes>"
      ]
     },
     "metadata": {
      "needs_background": "light"
     },
     "output_type": "display_data"
    }
   ],
   "source": [
    "x = ['Q1','Q2','Q3','Q4']\n",
    "y=[10,30,20,60]\n",
    "rect = plt.bar(x,y, color='g',width=0.3)\n",
    "plt.text(0.2,50,'test')\n",
    "\n",
    "print(len(rect))\n",
    "# 绘制标度值\n",
    "for indx, item in enumerate(rect):\n",
    "    _x = item.get_x()+0.1\n",
    "    _y = item.get_height()\n",
    "    plt.text(_x,_y,y[indx])\n",
    "plt.ylim(0, 70) # 显示y轴的显示范围\n",
    "plt.grid(True)\n",
    "plt.show()"
   ]
  },
  {
   "cell_type": "code",
   "execution_count": 56,
   "metadata": {},
   "outputs": [],
   "source": [
    "# 并状图"
   ]
  },
  {
   "cell_type": "code",
   "execution_count": 58,
   "metadata": {},
   "outputs": [
    {
     "data": {
      "text/plain": [
       "['Q1', 'Q2', 'Q3', 'Q4']"
      ]
     },
     "execution_count": 58,
     "metadata": {},
     "output_type": "execute_result"
    }
   ],
   "source": [
    "x"
   ]
  },
  {
   "cell_type": "code",
   "execution_count": 59,
   "metadata": {},
   "outputs": [
    {
     "data": {
      "text/plain": [
       "[10, 30, 20, 60]"
      ]
     },
     "execution_count": 59,
     "metadata": {},
     "output_type": "execute_result"
    }
   ],
   "source": [
    "y"
   ]
  },
  {
   "cell_type": "code",
   "execution_count": 60,
   "metadata": {},
   "outputs": [
    {
     "data": {
      "image/png": "[encoded data removed]",
      "text/plain": [
       "<Figure size 432x288 with 1 Axes>"
      ]
     },
     "metadata": {},
     "output_type": "display_data"
    }
   ],
   "source": [
    "plt.pie(y, labels = x)\n",
    "plt.show()"
   ]
  },
  {
   "cell_type": "code",
   "execution_count": 61,
   "metadata": {},
   "outputs": [
    {
     "data": {
      "image/png": "[encoded data removed]",
      "text/plain": [
       "<Figure size 432x288 with 1 Axes>"
      ]
     },
     "metadata": {},
     "output_type": "display_data"
    }
   ],
   "source": [
    "plt.axes(aspect=1)  # 正圆\n",
    "plt.pie(y, labels=x,autopct='%.2f%%')\n",
    "plt.show()"
   ]
  },
  {
   "cell_type": "code",
   "execution_count": 67,
   "metadata": {},
   "outputs": [
    {
     "data": {
      "image/png": "[encoded data removed]",
      "text/plain": [
       "<Figure size 432x288 with 1 Axes>"
      ]
     },
     "metadata": {},
     "output_type": "display_data"
    }
   ],
   "source": [
    "plt.axes(aspect = 1)  # 正圆\n",
    "plt.pie(y, labels = x, autopct = '%.2f%%', explode = [0.2,0,0,0], shadow = True)\n",
    "plt.show()"
   ]
  },
  {
   "cell_type": "code",
   "execution_count": 68,
   "metadata": {},
   "outputs": [
    {
     "data": {
      "text/plain": [
       "284"
      ]
     },
     "execution_count": 68,
     "metadata": {},
     "output_type": "execute_result"
    }
   ],
   "source": [
    "# 直方图\n",
    "np.random.seed(100)\n",
    "data = np.random.normal(9000, 3000,size=300) # 均值为9000，标准差为3000的，300个数据\n",
    "data = data[data>=4000]\n",
    "len(data)"
   ]
  },
  {
   "cell_type": "code",
   "execution_count": 69,
   "metadata": {},
   "outputs": [
    {
     "data": {
      "image/png": "[encoded data removed]",
      "text/plain": [
       "<Figure size 432x288 with 1 Axes>"
      ]
     },
     "metadata": {
      "needs_background": "light"
     },
     "output_type": "display_data"
    }
   ],
   "source": [
    "plt.hist(data)\n",
    "plt.show()"
   ]
  },
  {
   "cell_type": "code",
   "execution_count": 71,
   "metadata": {},
   "outputs": [
    {
     "data": {
      "image/png": "[encoded data removed]",
      "text/plain": [
       "<Figure size 432x288 with 1 Axes>"
      ]
     },
     "metadata": {
      "needs_background": "light"
     },
     "output_type": "display_data"
    }
   ],
   "source": [
    "plt.hist(data,color='g', rwidth=0.8, alpha=0.6)\n",
    "plt.show()"
   ]
  },
  {
   "cell_type": "code",
   "execution_count": 72,
   "metadata": {},
   "outputs": [
    {
     "data": {
      "image/png": "[encoded data removed]",
      "text/plain": [
       "<Figure size 432x288 with 1 Axes>"
      ]
     },
     "metadata": {
      "needs_background": "light"
     },
     "output_type": "display_data"
    }
   ],
   "source": [
    "plt.hist(data,color='g', rwidth=0.8, alpha=0.6,bins=20)  # bins代表柱子的个数\n",
    "plt.show()\n"
   ]
  },
  {
   "cell_type": "code",
   "execution_count": 73,
   "metadata": {},
   "outputs": [
    {
     "data": {
      "text/plain": [
       "15"
      ]
     },
     "execution_count": 73,
     "metadata": {},
     "output_type": "execute_result"
    }
   ],
   "source": [
    "len(data[data<4900])"
   ]
  },
  {
   "cell_type": "code",
   "execution_count": 74,
   "metadata": {},
   "outputs": [
    {
     "data": {
      "text/plain": [
       "96"
      ]
     },
     "execution_count": 74,
     "metadata": {},
     "output_type": "execute_result"
    }
   ],
   "source": [
    "len(data[(data>7000) & (data<9500)])"
   ]
  },
  {
   "cell_type": "code",
   "execution_count": 75,
   "metadata": {},
   "outputs": [],
   "source": [
    "# 箱线图"
   ]
  },
  {
   "cell_type": "code",
   "execution_count": 76,
   "metadata": {},
   "outputs": [
    {
     "data": {
      "text/plain": [
       "array([1, 2, 3, 4, 5, 6, 7, 8, 9])"
      ]
     },
     "execution_count": 76,
     "metadata": {},
     "output_type": "execute_result"
    }
   ],
   "source": [
    "data = np.arange(1, 10)\n",
    "data"
   ]
  },
  {
   "cell_type": "code",
   "execution_count": 77,
   "metadata": {},
   "outputs": [
    {
     "data": {
      "image/png": "[encoded data removed]",
      "text/plain": [
       "<Figure size 432x288 with 1 Axes>"
      ]
     },
     "metadata": {
      "needs_background": "light"
     },
     "output_type": "display_data"
    }
   ],
   "source": [
    "plt.boxplot(data)\n",
    "plt.show()"
   ]
  },
  {
   "cell_type": "code",
   "execution_count": 78,
   "metadata": {},
   "outputs": [
    {
     "data": {
      "text/plain": [
       "array([-1.74976547,  0.3426804 ,  1.1530358 , -0.25243604,  0.98132079,\n",
       "        0.51421884,  0.22117967, -1.07004333, -0.18949583,  0.25500144,\n",
       "       -0.45802699,  0.43516349, -0.58359505,  0.81684707,  0.67272081,\n",
       "       -0.10441114, -0.53128038,  1.02973269, -0.43813562, -1.11831825,\n",
       "        1.61898166,  1.54160517, -0.25187914, -0.84243574,  0.18451869,\n",
       "        0.9370822 ,  0.73100034,  1.36155613, -0.32623806,  0.05567601,\n",
       "        0.22239961, -1.443217  , -0.75635231,  0.81645401,  0.75044476,\n",
       "       -0.45594693,  1.18962227, -1.69061683, -1.35639905, -1.23243451,\n",
       "       -0.54443916, -0.66817174,  0.00731456, -0.61293874,  1.29974807,\n",
       "       -1.73309562, -0.9833101 ,  0.35750775, -1.6135785 ,  1.47071387,\n",
       "       -1.1880176 , -0.54974619, -0.94004616, -0.82793236,  0.10886347,\n",
       "        0.50780959, -0.86222735,  1.24946974, -0.07961125, -0.88973148,\n",
       "       -0.88179839,  0.01863895,  0.23784462,  0.01354855, -1.6355294 ,\n",
       "       -1.04420988,  0.61303888,  0.73620521,  1.02692144, -1.43219061,\n",
       "       -1.8411883 ,  0.36609323, -0.33177714, -0.68921798,  2.03460756,\n",
       "       -0.55071441,  0.75045333, -1.30699234,  0.58057334, -1.10452309,\n",
       "        0.69012147,  0.68689007, -1.56668753,  0.90497412,  0.7788224 ,\n",
       "        0.42823287,  0.10887199,  0.02828363, -0.57882582, -1.1994512 ,\n",
       "       -1.70595201,  0.36916396,  1.87657343, -0.37690335,  1.83193608,\n",
       "        0.00301743, -0.07602347,  0.00395759, -0.18501411, -2.48715154])"
      ]
     },
     "execution_count": 78,
     "metadata": {},
     "output_type": "execute_result"
    }
   ],
   "source": [
    "np.random.seed(100)\n",
    "data = np.random.normal(size=100)\n",
    "data"
   ]
  },
  {
   "cell_type": "code",
   "execution_count": 79,
   "metadata": {},
   "outputs": [
    {
     "data": {
      "image/png": "[encoded data removed]",
      "text/plain": [
       "<Figure size 432x288 with 1 Axes>"
      ]
     },
     "metadata": {
      "needs_background": "light"
     },
     "output_type": "display_data"
    }
   ],
   "source": [
    "plt.hist(data)\n",
    "plt.show()"
   ]
  },
  {
   "cell_type": "code",
   "execution_count": 80,
   "metadata": {},
   "outputs": [
    {
     "data": {
      "image/png": "[encoded data removed]",
      "text/plain": [
       "<Figure size 432x288 with 1 Axes>"
      ]
     },
     "metadata": {
      "needs_background": "light"
     },
     "output_type": "display_data"
    }
   ],
   "source": [
    "data = np.concatenate([data,[4,7,8,9,-4]])  \n",
    "plt.boxplot(data)\n",
    "plt.show()"
   ]
  },
  {
   "cell_type": "code",
   "execution_count": 81,
   "metadata": {},
   "outputs": [
    {
     "data": {
      "image/png": "[encoded data removed]",
      "text/plain": [
       "<Figure size 432x288 with 1 Axes>"
      ]
     },
     "metadata": {
      "needs_background": "light"
     },
     "output_type": "display_data"
    }
   ],
   "source": [
    "#whis：指定上下须与上下四分位的距离，默认为1.5倍的四分位差\n",
    "plt.boxplot(data,whis=3) # 异常值的划分\n",
    "plt.show()"
   ]
  },
  {
   "cell_type": "code",
   "execution_count": 82,
   "metadata": {},
   "outputs": [
    {
     "data": {
      "image/png": "[encoded data removed]",
      "text/plain": [
       "<Figure size 432x288 with 1 Axes>"
      ]
     },
     "metadata": {
      "needs_background": "light"
     },
     "output_type": "display_data"
    }
   ],
   "source": [
    "plt.boxplot(data, showmeans=True, meanline=True)\n",
    "plt.show()"
   ]
  },
  {
   "cell_type": "code",
   "execution_count": 83,
   "metadata": {},
   "outputs": [
    {
     "data": {
      "image/png": "[encoded data removed]",
      "text/plain": [
       "<Figure size 432x288 with 1 Axes>"
      ]
     },
     "metadata": {
      "needs_background": "light"
     },
     "output_type": "display_data"
    }
   ],
   "source": [
    "plt.boxplot(data, widths=0.8) # 异常值的划分\n",
    "plt.show()"
   ]
  },
  {
   "cell_type": "code",
   "execution_count": 84,
   "metadata": {},
   "outputs": [
    {
     "data": {
      "image/png": "[encoded data removed]",
      "text/plain": [
       "<Figure size 432x288 with 2 Axes>"
      ]
     },
     "metadata": {
      "needs_background": "light"
     },
     "output_type": "display_data"
    }
   ],
   "source": [
    "## 子图\n",
    "# 注意：其中各个参数也可以用逗号,分隔开。第一个参数代表子图的行数；第二个参数代表该行图像的列数； 第三个参数代表每行的第几个图像。\n",
    "# 另外：fig, ax = plt.subplots(2,2),其中参数分别代表子图的行数和列数，一共有 2x2 个图像。函数返回一个figure图像和一个子图ax的array列表。\n",
    "\n",
    "\n",
    "plt.subplot(2, 1, 1)\n",
    "plt.subplot(2, 1, 2)\n",
    "plt.show()"
   ]
  },
  {
   "cell_type": "code",
   "execution_count": 85,
   "metadata": {},
   "outputs": [
    {
     "data": {
      "image/png": "[encoded data removed]",
      "text/plain": [
       "<Figure size 432x288 with 3 Axes>"
      ]
     },
     "metadata": {
      "needs_background": "light"
     },
     "output_type": "display_data"
    }
   ],
   "source": [
    "plt.subplot(3, 1, 1)\n",
    "plt.subplot(3, 1, 2)\n",
    "plt.subplot(3, 1, 3)\n",
    "plt.show()"
   ]
  },
  {
   "cell_type": "code",
   "execution_count": 86,
   "metadata": {},
   "outputs": [
    {
     "data": {
      "image/png": "[encoded data removed]",
      "text/plain": [
       "<Figure size 432x288 with 2 Axes>"
      ]
     },
     "metadata": {
      "needs_background": "light"
     },
     "output_type": "display_data"
    }
   ],
   "source": [
    "plt.subplot(1, 2, 1) # 1x2\n",
    "plt.subplot(1, 2, 2)\n",
    "plt.show()"
   ]
  },
  {
   "cell_type": "code",
   "execution_count": 87,
   "metadata": {},
   "outputs": [
    {
     "data": {
      "text/plain": [
       "<matplotlib.axes._subplots.AxesSubplot at 0x12040c710>"
      ]
     },
     "execution_count": 87,
     "metadata": {},
     "output_type": "execute_result"
    },
    {
     "data": {
      "image/png": "[encoded data removed]",
      "text/plain": [
       "<Figure size 432x288 with 4 Axes>"
      ]
     },
     "metadata": {
      "needs_background": "light"
     },
     "output_type": "display_data"
    }
   ],
   "source": [
    "plt.subplot(2,2,1)\n",
    "plt.subplot(2,2,2)\n",
    "plt.subplot(2,2,3)\n",
    "plt.subplot(2,2,4)"
   ]
  },
  {
   "cell_type": "code",
   "execution_count": 88,
   "metadata": {},
   "outputs": [
    {
     "data": {
      "image/png": "[encoded data removed]",
      "text/plain": [
       "<Figure size 432x288 with 3 Axes>"
      ]
     },
     "metadata": {
      "needs_background": "light"
     },
     "output_type": "display_data"
    }
   ],
   "source": [
    "plt.subplot(2,2,1)\n",
    "plt.subplot(2,2,2)\n",
    "plt.subplot(2,1,2)\n",
    "plt.show()"
   ]
  },
  {
   "cell_type": "code",
   "execution_count": 119,
   "metadata": {},
   "outputs": [
    {
     "data": {
      "text/html": [
       "<div>\n",
       "<style scoped>\n",
       "    .dataframe tbody tr th:only-of-type {\n",
       "        vertical-align: middle;\n",
       "    }\n",
       "\n",
       "    .dataframe tbody tr th {\n",
       "        vertical-align: top;\n",
       "    }\n",
       "\n",
       "    .dataframe thead th {\n",
       "        text-align: right;\n",
       "    }\n",
       "</style>\n",
       "<table border=\"1\" class=\"dataframe\">\n",
       "  <thead>\n",
       "    <tr style=\"text-align: right;\">\n",
       "      <th></th>\n",
       "      <th>排名</th>\n",
       "      <th>城市</th>\n",
       "      <th>月均工资</th>\n",
       "    </tr>\n",
       "  </thead>\n",
       "  <tbody>\n",
       "    <tr>\n",
       "      <th>0</th>\n",
       "      <td>1</td>\n",
       "      <td>北京</td>\n",
       "      <td>9240</td>\n",
       "    </tr>\n",
       "    <tr>\n",
       "      <th>1</th>\n",
       "      <td>2</td>\n",
       "      <td>上海</td>\n",
       "      <td>8962</td>\n",
       "    </tr>\n",
       "    <tr>\n",
       "      <th>2</th>\n",
       "      <td>3</td>\n",
       "      <td>深圳</td>\n",
       "      <td>8315</td>\n",
       "    </tr>\n",
       "    <tr>\n",
       "      <th>3</th>\n",
       "      <td>4</td>\n",
       "      <td>广州</td>\n",
       "      <td>7409</td>\n",
       "    </tr>\n",
       "    <tr>\n",
       "      <th>4</th>\n",
       "      <td>5</td>\n",
       "      <td>杭州</td>\n",
       "      <td>7330</td>\n",
       "    </tr>\n",
       "  </tbody>\n",
       "</table>\n",
       "</div>"
      ],
      "text/plain": [
       "   排名  城市  月均工资\n",
       "0   1  北京  9240\n",
       "1   2  上海  8962\n",
       "2   3  深圳  8315\n",
       "3   4  广州  7409\n",
       "4   5  杭州  7330"
      ]
     },
     "execution_count": 119,
     "metadata": {},
     "output_type": "execute_result"
    }
   ],
   "source": [
    "import pandas as pd\n",
    "data = pd.read_table('./salay.txt',sep='\\t')\n",
    "data.head()"
   ]
  },
  {
   "cell_type": "code",
   "execution_count": 120,
   "metadata": {},
   "outputs": [],
   "source": [
    "plt.rc('font',**{'family':'Microsoft YaHei, SimHei'})"
   ]
  },
  {
   "cell_type": "code",
   "execution_count": 121,
   "metadata": {},
   "outputs": [
    {
     "data": {
      "text/plain": [
       "<matplotlib.axes._subplots.AxesSubplot at 0x121be08d0>"
      ]
     },
     "execution_count": 121,
     "metadata": {},
     "output_type": "execute_result"
    },
    {
     "data": {
      "image/png": "[encoded data removed]",
      "text/plain": [
       "<Figure size 432x288 with 1 Axes>"
      ]
     },
     "metadata": {
      "needs_background": "light"
     },
     "output_type": "display_data"
    }
   ],
   "source": [
    "plt.subplot(2,2,1)"
   ]
  },
  {
   "cell_type": "code",
   "execution_count": 122,
   "metadata": {},
   "outputs": [
    {
     "data": {
      "image/png": "[encoded data removed]",
      "text/plain": [
       "<Figure size 432x288 with 3 Axes>"
      ]
     },
     "metadata": {
      "needs_background": "light"
     },
     "output_type": "display_data"
    }
   ],
   "source": [
    "plt.subplot(2,2,1)\n",
    "x = np.random.random(10)\n",
    "y = np.random.random(10)\n",
    "plt.scatter(x,y)\n",
    "plt.title('test')\n",
    "\n",
    "plt.subplot(2,2,2)\n",
    "\n",
    "x= np.arange(7)\n",
    "y = x ** 2\n",
    "plt.plot(x,y)\n",
    "plt.title('test2')\n",
    "\n",
    "plt.subplot(2,1,2)\n",
    "plt.show()"
   ]
  },
  {
   "cell_type": "code",
   "execution_count": 123,
   "metadata": {},
   "outputs": [
    {
     "data": {
      "image/png": "[encoded data removed]",
      "text/plain": [
       "<Figure size 432x288 with 1 Axes>"
      ]
     },
     "metadata": {
      "needs_background": "light"
     },
     "output_type": "display_data"
    }
   ],
   "source": [
    "data['月均工资'].plot()\n",
    "plt.show()"
   ]
  },
  {
   "cell_type": "code",
   "execution_count": 118,
   "metadata": {},
   "outputs": [
    {
     "data": {
      "text/html": [
       "<div>\n",
       "<style scoped>\n",
       "    .dataframe tbody tr th:only-of-type {\n",
       "        vertical-align: middle;\n",
       "    }\n",
       "\n",
       "    .dataframe tbody tr th {\n",
       "        vertical-align: top;\n",
       "    }\n",
       "\n",
       "    .dataframe thead th {\n",
       "        text-align: right;\n",
       "    }\n",
       "</style>\n",
       "<table border=\"1\" class=\"dataframe\">\n",
       "  <thead>\n",
       "    <tr style=\"text-align: right;\">\n",
       "      <th></th>\n",
       "      <th>排名</th>\n",
       "      <th>月均工资</th>\n",
       "    </tr>\n",
       "    <tr>\n",
       "      <th>城市</th>\n",
       "      <th></th>\n",
       "      <th></th>\n",
       "    </tr>\n",
       "  </thead>\n",
       "  <tbody>\n",
       "    <tr>\n",
       "      <th>北京</th>\n",
       "      <td>1</td>\n",
       "      <td>9240</td>\n",
       "    </tr>\n",
       "    <tr>\n",
       "      <th>上海</th>\n",
       "      <td>2</td>\n",
       "      <td>8962</td>\n",
       "    </tr>\n",
       "    <tr>\n",
       "      <th>深圳</th>\n",
       "      <td>3</td>\n",
       "      <td>8315</td>\n",
       "    </tr>\n",
       "    <tr>\n",
       "      <th>广州</th>\n",
       "      <td>4</td>\n",
       "      <td>7409</td>\n",
       "    </tr>\n",
       "    <tr>\n",
       "      <th>杭州</th>\n",
       "      <td>5</td>\n",
       "      <td>7330</td>\n",
       "    </tr>\n",
       "  </tbody>\n",
       "</table>\n",
       "</div>"
      ],
      "text/plain": [
       "    排名  月均工资\n",
       "城市          \n",
       "北京   1  9240\n",
       "上海   2  8962\n",
       "深圳   3  8315\n",
       "广州   4  7409\n",
       "杭州   5  7330"
      ]
     },
     "execution_count": 118,
     "metadata": {},
     "output_type": "execute_result"
    }
   ],
   "source": [
    "# data.index = data['城市']\n",
    "data = data.set_index('城市')\n",
    "data.head()\n"
   ]
  },
  {
   "cell_type": "code",
   "execution_count": 124,
   "metadata": {},
   "outputs": [
    {
     "data": {
      "image/png": "[encoded data removed]",
      "text/plain": [
       "<Figure size 432x288 with 1 Axes>"
      ]
     },
     "metadata": {
      "needs_background": "light"
     },
     "output_type": "display_data"
    }
   ],
   "source": [
    "data['月均工资'][:10].plot(kind='bar')\n",
    "plt.show()"
   ]
  },
  {
   "cell_type": "code",
   "execution_count": 125,
   "metadata": {},
   "outputs": [
    {
     "data": {
      "image/png": "[encoded data removed]",
      "text/plain": [
       "<Figure size 432x288 with 1 Axes>"
      ]
     },
     "metadata": {
      "needs_background": "light"
     },
     "output_type": "display_data"
    }
   ],
   "source": [
    "data[['月均工资']].boxplot()\n",
    "plt.show()"
   ]
  },
  {
   "cell_type": "code",
   "execution_count": 126,
   "metadata": {},
   "outputs": [
    {
     "data": {
      "image/png": "[encoded data removed]",
      "text/plain": [
       "<Figure size 432x288 with 1 Axes>"
      ]
     },
     "metadata": {
      "needs_background": "light"
     },
     "output_type": "display_data"
    }
   ],
   "source": [
    "data[['月均工资']].hist()\n",
    "plt.show()"
   ]
  },
  {
   "cell_type": "code",
   "execution_count": 127,
   "metadata": {},
   "outputs": [
    {
     "data": {
      "text/html": [
       "<div>\n",
       "<style scoped>\n",
       "    .dataframe tbody tr th:only-of-type {\n",
       "        vertical-align: middle;\n",
       "    }\n",
       "\n",
       "    .dataframe tbody tr th {\n",
       "        vertical-align: top;\n",
       "    }\n",
       "\n",
       "    .dataframe thead th {\n",
       "        text-align: right;\n",
       "    }\n",
       "</style>\n",
       "<table border=\"1\" class=\"dataframe\">\n",
       "  <thead>\n",
       "    <tr style=\"text-align: right;\">\n",
       "      <th></th>\n",
       "      <th>A</th>\n",
       "      <th>B</th>\n",
       "      <th>C</th>\n",
       "      <th>D</th>\n",
       "    </tr>\n",
       "  </thead>\n",
       "  <tbody>\n",
       "    <tr>\n",
       "      <th>0</th>\n",
       "      <td>0.684624</td>\n",
       "      <td>0.488293</td>\n",
       "      <td>0.485414</td>\n",
       "      <td>0.966693</td>\n",
       "    </tr>\n",
       "    <tr>\n",
       "      <th>1</th>\n",
       "      <td>0.211348</td>\n",
       "      <td>0.411648</td>\n",
       "      <td>0.989666</td>\n",
       "      <td>0.028412</td>\n",
       "    </tr>\n",
       "    <tr>\n",
       "      <th>2</th>\n",
       "      <td>0.701327</td>\n",
       "      <td>0.025172</td>\n",
       "      <td>0.320882</td>\n",
       "      <td>0.073527</td>\n",
       "    </tr>\n",
       "    <tr>\n",
       "      <th>3</th>\n",
       "      <td>0.060885</td>\n",
       "      <td>0.111406</td>\n",
       "      <td>0.169269</td>\n",
       "      <td>0.627686</td>\n",
       "    </tr>\n",
       "    <tr>\n",
       "      <th>4</th>\n",
       "      <td>0.438393</td>\n",
       "      <td>0.830904</td>\n",
       "      <td>0.239792</td>\n",
       "      <td>0.190053</td>\n",
       "    </tr>\n",
       "    <tr>\n",
       "      <th>5</th>\n",
       "      <td>0.711900</td>\n",
       "      <td>0.858295</td>\n",
       "      <td>0.559056</td>\n",
       "      <td>0.704420</td>\n",
       "    </tr>\n",
       "    <tr>\n",
       "      <th>6</th>\n",
       "      <td>0.605112</td>\n",
       "      <td>0.559217</td>\n",
       "      <td>0.860394</td>\n",
       "      <td>0.919755</td>\n",
       "    </tr>\n",
       "    <tr>\n",
       "      <th>7</th>\n",
       "      <td>0.849607</td>\n",
       "      <td>0.254467</td>\n",
       "      <td>0.877556</td>\n",
       "      <td>0.435130</td>\n",
       "    </tr>\n",
       "    <tr>\n",
       "      <th>8</th>\n",
       "      <td>0.729494</td>\n",
       "      <td>0.412641</td>\n",
       "      <td>0.190836</td>\n",
       "      <td>0.706020</td>\n",
       "    </tr>\n",
       "    <tr>\n",
       "      <th>9</th>\n",
       "      <td>0.240633</td>\n",
       "      <td>0.851324</td>\n",
       "      <td>0.824102</td>\n",
       "      <td>0.525212</td>\n",
       "    </tr>\n",
       "  </tbody>\n",
       "</table>\n",
       "</div>"
      ],
      "text/plain": [
       "          A         B         C         D\n",
       "0  0.684624  0.488293  0.485414  0.966693\n",
       "1  0.211348  0.411648  0.989666  0.028412\n",
       "2  0.701327  0.025172  0.320882  0.073527\n",
       "3  0.060885  0.111406  0.169269  0.627686\n",
       "4  0.438393  0.830904  0.239792  0.190053\n",
       "5  0.711900  0.858295  0.559056  0.704420\n",
       "6  0.605112  0.559217  0.860394  0.919755\n",
       "7  0.849607  0.254467  0.877556  0.435130\n",
       "8  0.729494  0.412641  0.190836  0.706020\n",
       "9  0.240633  0.851324  0.824102  0.525212"
      ]
     },
     "execution_count": 127,
     "metadata": {},
     "output_type": "execute_result"
    }
   ],
   "source": [
    "import numpy as np\n",
    "\n",
    "\n",
    "data = pd.DataFrame(np.random.rand(10, 4), columns=('A','B','C','D'))\n",
    "data"
   ]
  },
  {
   "cell_type": "code",
   "execution_count": 128,
   "metadata": {},
   "outputs": [
    {
     "data": {
      "image/png": "[encoded data removed]",
      "text/plain": [
       "<Figure size 432x288 with 1 Axes>"
      ]
     },
     "metadata": {
      "needs_background": "light"
     },
     "output_type": "display_data"
    }
   ],
   "source": [
    "data.plot(kind='barh')\n",
    "plt.show()"
   ]
  },
  {
   "cell_type": "code",
   "execution_count": 129,
   "metadata": {},
   "outputs": [
    {
     "data": {
      "image/png": "[encoded data removed]",
      "text/plain": [
       "<Figure size 432x288 with 1 Axes>"
      ]
     },
     "metadata": {
      "needs_background": "light"
     },
     "output_type": "display_data"
    }
   ],
   "source": [
    "data.plot(kind='barh',stacked=True)\n",
    "# plt.show()\n",
    "plt.savefig('test.png')"
   ]
  },
  {
   "cell_type": "code",
   "execution_count": null,
   "metadata": {},
   "outputs": [],
   "source": []
  }
 ],
 "metadata": {
  "kernelspec": {
   "display_name": "Python 3",
   "language": "python",
   "name": "python3"
  },
  "language_info": {
   "codemirror_mode": {
    "name": "ipython",
    "version": 3
   },
   "file_extension": ".py",
   "mimetype": "text/x-python",
   "name": "python",
   "nbconvert_exporter": "python",
   "pygments_lexer": "ipython3",
   "version": "3.7.1"
  }
 },
 "nbformat": 4,
 "nbformat_minor": 2
}
